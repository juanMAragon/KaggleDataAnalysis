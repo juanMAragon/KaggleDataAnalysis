{
 "cells": [
  {
   "cell_type": "code",
   "execution_count": 121,
   "source": [
    "import pandas as pd\r\n",
    "import numpy as np\r\n",
    "import seaborn as sns\r\n",
    "import matplotlib.pyplot as plt\r\n",
    "import warnings\r\n",
    "warnings.filterwarnings('ignore')"
   ],
   "outputs": [],
   "metadata": {}
  },
  {
   "cell_type": "code",
   "execution_count": 122,
   "source": [
    "data = pd.read_csv('dengueKaggle.csv', sep=',')\r\n",
    "answers = pd.read_csv('totalcases.csv', sep=',')\r\n",
    "\r\n",
    "data['total_cases'] = answers['total_cases']\r\n",
    "\r\n",
    "data.shape, answers.shape"
   ],
   "outputs": [
    {
     "output_type": "execute_result",
     "data": {
      "text/plain": [
       "((1456, 25), (1456, 4))"
      ]
     },
     "metadata": {},
     "execution_count": 122
    }
   ],
   "metadata": {}
  },
  {
   "cell_type": "code",
   "execution_count": 123,
   "source": [
    "data_iq = data[data['city'] == 'iq']\r\n",
    "data_iq['week_start_date'] = data_iq['week_start_date'].apply(pd.to_datetime)"
   ],
   "outputs": [],
   "metadata": {}
  },
  {
   "cell_type": "code",
   "execution_count": 124,
   "source": [
    "discarded_iq_data = data_iq[data_iq['week_start_date'] < '2000-07-01']\r\n",
    "\r\n",
    "data_iq = data_iq[data_iq['week_start_date'] > '2000-06-30']\r\n",
    "\r\n",
    "\r\n",
    "data_iq = data_iq.drop(columns=['city']).reset_index()"
   ],
   "outputs": [],
   "metadata": {}
  },
  {
   "cell_type": "code",
   "execution_count": 125,
   "source": [
    "data_iq = data_iq[data_iq['week_start_date'] > '2007-12-31']\r\n",
    "data_iq['week_start_date'].describe()"
   ],
   "outputs": [
    {
     "output_type": "execute_result",
     "data": {
      "text/plain": [
       "count                     234\n",
       "unique                    234\n",
       "top       2006-01-01 00:00:00\n",
       "freq                        1\n",
       "first     2006-01-01 00:00:00\n",
       "last      2010-06-25 00:00:00\n",
       "Name: week_start_date, dtype: object"
      ]
     },
     "metadata": {},
     "execution_count": 125
    }
   ],
   "metadata": {}
  },
  {
   "cell_type": "code",
   "execution_count": 141,
   "source": [
    "data1 = data_iq[data_iq['week_start_date'] > '2005-12-31']\r\n",
    "data2 = data_iq[data_iq['week_start_date'] > '2007-12-31']"
   ],
   "outputs": [],
   "metadata": {}
  },
  {
   "cell_type": "code",
   "execution_count": 146,
   "source": [
    "result = pd.concat([data1, data2]).drop(columns=['index'])\r\n"
   ],
   "outputs": [],
   "metadata": {}
  },
  {
   "cell_type": "code",
   "execution_count": 165,
   "source": [
    "result['precipitation_amt_mm'].describe()"
   ],
   "outputs": [
    {
     "output_type": "execute_result",
     "data": {
      "text/plain": [
       "count    360.000000\n",
       "mean      66.738750\n",
       "std       36.206721\n",
       "min        0.000000\n",
       "25%       41.302500\n",
       "50%       62.840000\n",
       "75%       89.332500\n",
       "max      210.830000\n",
       "Name: precipitation_amt_mm, dtype: float64"
      ]
     },
     "metadata": {},
     "execution_count": 165
    }
   ],
   "metadata": {}
  },
  {
   "cell_type": "code",
   "execution_count": 149,
   "source": [
    "result.columns"
   ],
   "outputs": [
    {
     "output_type": "execute_result",
     "data": {
      "text/plain": [
       "Index(['year', 'weekofyear', 'week_start_date', 'ndvi_ne', 'ndvi_nw',\n",
       "       'ndvi_se', 'ndvi_sw', 'precipitation_amt_mm', 'reanalysis_air_temp_k',\n",
       "       'reanalysis_avg_temp_k', 'reanalysis_dew_point_temp_k',\n",
       "       'reanalysis_max_air_temp_k', 'reanalysis_min_air_temp_k',\n",
       "       'reanalysis_precip_amt_kg_per_m2',\n",
       "       'reanalysis_relative_humidity_percent', 'reanalysis_sat_precip_amt_mm',\n",
       "       'reanalysis_specific_humidity_g_per_kg', 'reanalysis_tdtr_k',\n",
       "       'station_avg_temp_c', 'station_diur_temp_rng_c', 'station_max_temp_c',\n",
       "       'station_min_temp_c', 'station_precip_mm', 'total_cases'],\n",
       "      dtype='object')"
      ]
     },
     "metadata": {},
     "execution_count": 149
    }
   ],
   "metadata": {}
  }
 ],
 "metadata": {
  "orig_nbformat": 4,
  "language_info": {
   "name": "python",
   "version": "3.7.9",
   "mimetype": "text/x-python",
   "codemirror_mode": {
    "name": "ipython",
    "version": 3
   },
   "pygments_lexer": "ipython3",
   "nbconvert_exporter": "python",
   "file_extension": ".py"
  },
  "kernelspec": {
   "name": "python3",
   "display_name": "Python 3.7.9 64-bit"
  },
  "interpreter": {
   "hash": "b07df32797ebab3fa70d4a9f70db79d16446676c9594683b5222a41098e20e60"
  }
 },
 "nbformat": 4,
 "nbformat_minor": 2
}