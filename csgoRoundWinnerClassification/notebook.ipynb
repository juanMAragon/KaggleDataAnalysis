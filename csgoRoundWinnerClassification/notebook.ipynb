{
 "cells": [
  {
   "cell_type": "code",
   "execution_count": 270,
   "source": [
    "import pandas as pd\r\n",
    "import numpy as np\r\n",
    "import seaborn as sns\r\n",
    "import matplotlib.pyplot as plt"
   ],
   "outputs": [],
   "metadata": {}
  },
  {
   "cell_type": "code",
   "execution_count": 298,
   "source": [
    "data = pd.read_csv('./csgo_round_snapshots.csv')"
   ],
   "outputs": [],
   "metadata": {}
  },
  {
   "cell_type": "code",
   "execution_count": 155,
   "source": [
    "print(data.shape)\r\n",
    "data.head()"
   ],
   "outputs": [
    {
     "output_type": "stream",
     "name": "stdout",
     "text": [
      "(122410, 97)\n"
     ]
    },
    {
     "output_type": "execute_result",
     "data": {
      "text/plain": [
       "   time_left  ct_score  t_score       map  bomb_planted  ct_health  t_health  \\\n",
       "0     175.00       0.0      0.0  de_dust2         False      500.0     500.0   \n",
       "1     156.03       0.0      0.0  de_dust2         False      500.0     500.0   \n",
       "2      96.03       0.0      0.0  de_dust2         False      391.0     400.0   \n",
       "3      76.03       0.0      0.0  de_dust2         False      391.0     400.0   \n",
       "4     174.97       1.0      0.0  de_dust2         False      500.0     500.0   \n",
       "\n",
       "   ct_armor  t_armor  ct_money  ...  t_grenade_flashbang  \\\n",
       "0       0.0      0.0    4000.0  ...                  0.0   \n",
       "1     400.0    300.0     600.0  ...                  0.0   \n",
       "2     294.0    200.0     750.0  ...                  0.0   \n",
       "3     294.0    200.0     750.0  ...                  0.0   \n",
       "4     192.0      0.0   18350.0  ...                  0.0   \n",
       "\n",
       "   ct_grenade_smokegrenade  t_grenade_smokegrenade  \\\n",
       "0                      0.0                     0.0   \n",
       "1                      0.0                     2.0   \n",
       "2                      0.0                     2.0   \n",
       "3                      0.0                     0.0   \n",
       "4                      0.0                     0.0   \n",
       "\n",
       "   ct_grenade_incendiarygrenade  t_grenade_incendiarygrenade  \\\n",
       "0                           0.0                          0.0   \n",
       "1                           0.0                          0.0   \n",
       "2                           0.0                          0.0   \n",
       "3                           0.0                          0.0   \n",
       "4                           0.0                          0.0   \n",
       "\n",
       "   ct_grenade_molotovgrenade  t_grenade_molotovgrenade  \\\n",
       "0                        0.0                       0.0   \n",
       "1                        0.0                       0.0   \n",
       "2                        0.0                       0.0   \n",
       "3                        0.0                       0.0   \n",
       "4                        0.0                       0.0   \n",
       "\n",
       "   ct_grenade_decoygrenade  t_grenade_decoygrenade  round_winner  \n",
       "0                      0.0                     0.0            CT  \n",
       "1                      0.0                     0.0            CT  \n",
       "2                      0.0                     0.0            CT  \n",
       "3                      0.0                     0.0            CT  \n",
       "4                      0.0                     0.0            CT  \n",
       "\n",
       "[5 rows x 97 columns]"
      ],
      "text/html": [
       "<div>\n",
       "<style scoped>\n",
       "    .dataframe tbody tr th:only-of-type {\n",
       "        vertical-align: middle;\n",
       "    }\n",
       "\n",
       "    .dataframe tbody tr th {\n",
       "        vertical-align: top;\n",
       "    }\n",
       "\n",
       "    .dataframe thead th {\n",
       "        text-align: right;\n",
       "    }\n",
       "</style>\n",
       "<table border=\"1\" class=\"dataframe\">\n",
       "  <thead>\n",
       "    <tr style=\"text-align: right;\">\n",
       "      <th></th>\n",
       "      <th>time_left</th>\n",
       "      <th>ct_score</th>\n",
       "      <th>t_score</th>\n",
       "      <th>map</th>\n",
       "      <th>bomb_planted</th>\n",
       "      <th>ct_health</th>\n",
       "      <th>t_health</th>\n",
       "      <th>ct_armor</th>\n",
       "      <th>t_armor</th>\n",
       "      <th>ct_money</th>\n",
       "      <th>...</th>\n",
       "      <th>t_grenade_flashbang</th>\n",
       "      <th>ct_grenade_smokegrenade</th>\n",
       "      <th>t_grenade_smokegrenade</th>\n",
       "      <th>ct_grenade_incendiarygrenade</th>\n",
       "      <th>t_grenade_incendiarygrenade</th>\n",
       "      <th>ct_grenade_molotovgrenade</th>\n",
       "      <th>t_grenade_molotovgrenade</th>\n",
       "      <th>ct_grenade_decoygrenade</th>\n",
       "      <th>t_grenade_decoygrenade</th>\n",
       "      <th>round_winner</th>\n",
       "    </tr>\n",
       "  </thead>\n",
       "  <tbody>\n",
       "    <tr>\n",
       "      <th>0</th>\n",
       "      <td>175.00</td>\n",
       "      <td>0.0</td>\n",
       "      <td>0.0</td>\n",
       "      <td>de_dust2</td>\n",
       "      <td>False</td>\n",
       "      <td>500.0</td>\n",
       "      <td>500.0</td>\n",
       "      <td>0.0</td>\n",
       "      <td>0.0</td>\n",
       "      <td>4000.0</td>\n",
       "      <td>...</td>\n",
       "      <td>0.0</td>\n",
       "      <td>0.0</td>\n",
       "      <td>0.0</td>\n",
       "      <td>0.0</td>\n",
       "      <td>0.0</td>\n",
       "      <td>0.0</td>\n",
       "      <td>0.0</td>\n",
       "      <td>0.0</td>\n",
       "      <td>0.0</td>\n",
       "      <td>CT</td>\n",
       "    </tr>\n",
       "    <tr>\n",
       "      <th>1</th>\n",
       "      <td>156.03</td>\n",
       "      <td>0.0</td>\n",
       "      <td>0.0</td>\n",
       "      <td>de_dust2</td>\n",
       "      <td>False</td>\n",
       "      <td>500.0</td>\n",
       "      <td>500.0</td>\n",
       "      <td>400.0</td>\n",
       "      <td>300.0</td>\n",
       "      <td>600.0</td>\n",
       "      <td>...</td>\n",
       "      <td>0.0</td>\n",
       "      <td>0.0</td>\n",
       "      <td>2.0</td>\n",
       "      <td>0.0</td>\n",
       "      <td>0.0</td>\n",
       "      <td>0.0</td>\n",
       "      <td>0.0</td>\n",
       "      <td>0.0</td>\n",
       "      <td>0.0</td>\n",
       "      <td>CT</td>\n",
       "    </tr>\n",
       "    <tr>\n",
       "      <th>2</th>\n",
       "      <td>96.03</td>\n",
       "      <td>0.0</td>\n",
       "      <td>0.0</td>\n",
       "      <td>de_dust2</td>\n",
       "      <td>False</td>\n",
       "      <td>391.0</td>\n",
       "      <td>400.0</td>\n",
       "      <td>294.0</td>\n",
       "      <td>200.0</td>\n",
       "      <td>750.0</td>\n",
       "      <td>...</td>\n",
       "      <td>0.0</td>\n",
       "      <td>0.0</td>\n",
       "      <td>2.0</td>\n",
       "      <td>0.0</td>\n",
       "      <td>0.0</td>\n",
       "      <td>0.0</td>\n",
       "      <td>0.0</td>\n",
       "      <td>0.0</td>\n",
       "      <td>0.0</td>\n",
       "      <td>CT</td>\n",
       "    </tr>\n",
       "    <tr>\n",
       "      <th>3</th>\n",
       "      <td>76.03</td>\n",
       "      <td>0.0</td>\n",
       "      <td>0.0</td>\n",
       "      <td>de_dust2</td>\n",
       "      <td>False</td>\n",
       "      <td>391.0</td>\n",
       "      <td>400.0</td>\n",
       "      <td>294.0</td>\n",
       "      <td>200.0</td>\n",
       "      <td>750.0</td>\n",
       "      <td>...</td>\n",
       "      <td>0.0</td>\n",
       "      <td>0.0</td>\n",
       "      <td>0.0</td>\n",
       "      <td>0.0</td>\n",
       "      <td>0.0</td>\n",
       "      <td>0.0</td>\n",
       "      <td>0.0</td>\n",
       "      <td>0.0</td>\n",
       "      <td>0.0</td>\n",
       "      <td>CT</td>\n",
       "    </tr>\n",
       "    <tr>\n",
       "      <th>4</th>\n",
       "      <td>174.97</td>\n",
       "      <td>1.0</td>\n",
       "      <td>0.0</td>\n",
       "      <td>de_dust2</td>\n",
       "      <td>False</td>\n",
       "      <td>500.0</td>\n",
       "      <td>500.0</td>\n",
       "      <td>192.0</td>\n",
       "      <td>0.0</td>\n",
       "      <td>18350.0</td>\n",
       "      <td>...</td>\n",
       "      <td>0.0</td>\n",
       "      <td>0.0</td>\n",
       "      <td>0.0</td>\n",
       "      <td>0.0</td>\n",
       "      <td>0.0</td>\n",
       "      <td>0.0</td>\n",
       "      <td>0.0</td>\n",
       "      <td>0.0</td>\n",
       "      <td>0.0</td>\n",
       "      <td>CT</td>\n",
       "    </tr>\n",
       "  </tbody>\n",
       "</table>\n",
       "<p>5 rows × 97 columns</p>\n",
       "</div>"
      ]
     },
     "metadata": {},
     "execution_count": 155
    }
   ],
   "metadata": {}
  },
  {
   "cell_type": "code",
   "execution_count": 5,
   "source": [
    "data.isnull().sum().values"
   ],
   "outputs": [
    {
     "output_type": "execute_result",
     "data": {
      "text/plain": [
       "array([0, 0, 0, 0, 0, 0, 0, 0, 0, 0, 0, 0, 0, 0, 0, 0, 0, 0, 0, 0, 0, 0,\n",
       "       0, 0, 0, 0, 0, 0, 0, 0, 0, 0, 0, 0, 0, 0, 0, 0, 0, 0, 0, 0, 0, 0,\n",
       "       0, 0, 0, 0, 0, 0, 0, 0, 0, 0, 0, 0, 0, 0, 0, 0, 0, 0, 0, 0, 0, 0,\n",
       "       0, 0, 0, 0, 0, 0, 0, 0, 0, 0, 0, 0, 0, 0, 0, 0, 0, 0, 0, 0, 0, 0,\n",
       "       0, 0, 0, 0, 0, 0, 0, 0, 0], dtype=int64)"
      ]
     },
     "metadata": {},
     "execution_count": 5
    }
   ],
   "metadata": {}
  },
  {
   "cell_type": "code",
   "execution_count": 6,
   "source": [
    "data.drop(data.select_dtypes(np.number), axis=1).columns"
   ],
   "outputs": [
    {
     "output_type": "execute_result",
     "data": {
      "text/plain": [
       "Index(['map', 'bomb_planted', 'round_winner'], dtype='object')"
      ]
     },
     "metadata": {},
     "execution_count": 6
    }
   ],
   "metadata": {}
  },
  {
   "cell_type": "code",
   "execution_count": 299,
   "source": [
    "data['bomb_planted'].value_counts()"
   ],
   "outputs": [
    {
     "output_type": "execute_result",
     "data": {
      "text/plain": [
       "False    108726\n",
       "True      13684\n",
       "Name: bomb_planted, dtype: int64"
      ]
     },
     "metadata": {},
     "execution_count": 299
    }
   ],
   "metadata": {}
  },
  {
   "cell_type": "code",
   "execution_count": 300,
   "source": [
    "data['players_alive'] = data['ct_players_alive']-data['t_players_alive']\r\n",
    "data.drop(columns=['ct_players_alive','t_players_alive'], axis=1, inplace=True)\r\n",
    "\r\n",
    "data['score'] = data['ct_score']-data['t_score']\r\n",
    "data.drop(columns=['ct_score','t_score'], axis=1, inplace=True)\r\n",
    "\r\n",
    "data['health'] = data['ct_health']-data['t_health']\r\n",
    "data.drop(columns=['ct_health','t_health'], axis=1, inplace=True)\r\n",
    "\r\n",
    "data['armor'] = data['ct_armor']-data['t_armor']\r\n",
    "data.drop(columns=['ct_armor','t_armor'], axis=1, inplace=True)\r\n",
    "\r\n",
    "data['money'] = data['ct_money']-data['t_money']\r\n",
    "data.drop(columns=['ct_money','t_money'], axis=1, inplace=True)\r\n",
    "\r\n",
    "data['helmets'] = data['ct_helmets']-data['t_helmets']\r\n",
    "data.drop(columns=['ct_helmets','t_helmets'], axis=1, inplace=True)\r\n",
    "\r\n",
    "data['weapon_ak47'] = data['ct_weapon_ak47']-data['t_weapon_ak47']\r\n",
    "data.drop(columns=['ct_weapon_ak47','t_weapon_ak47'], axis=1, inplace=True)\r\n",
    "\r\n",
    "data['weapon_aug'] = data['ct_weapon_aug']-data['t_weapon_aug'] #not so influent\r\n",
    "data.drop(columns=['ct_weapon_aug','t_weapon_aug'], axis=1, inplace=True)\r\n",
    "\r\n",
    "data['weapon_awp'] = data['ct_weapon_awp']-data['t_weapon_awp']\r\n",
    "data.drop(columns=['ct_weapon_awp','t_weapon_awp'], axis=1, inplace=True)\r\n",
    "\r\n",
    "data['weapon_bizon'] = data['ct_weapon_bizon']-data['t_weapon_bizon']\r\n",
    "data.drop(columns=['ct_weapon_bizon','t_weapon_bizon'], axis=1, inplace=True)\r\n",
    "\r\n",
    "data['weapon_cz75auto'] = data['ct_weapon_cz75auto']-data['t_weapon_cz75auto']\r\n",
    "data.drop(columns=['ct_weapon_cz75auto','t_weapon_cz75auto'], axis=1, inplace=True)\r\n",
    "\r\n",
    "data['weapon_elite'] = data['ct_weapon_elite']-data['t_weapon_elite']\r\n",
    "data.drop(columns=['ct_weapon_elite','t_weapon_elite'], axis=1, inplace=True)\r\n",
    "\r\n",
    "data['weapon_famas'] = data['ct_weapon_famas']-data['t_weapon_famas']\r\n",
    "data.drop(columns=['ct_weapon_famas','t_weapon_famas'], axis=1, inplace=True)\r\n",
    "\r\n",
    "data['weapon_g3sg1'] = data['ct_weapon_g3sg1']-data['t_weapon_g3sg1']\r\n",
    "data.drop(columns=['ct_weapon_g3sg1','t_weapon_g3sg1'], axis=1, inplace=True)\r\n",
    "\r\n",
    "data['weapon_galilar'] = data['ct_weapon_galilar']-data['t_weapon_galilar']\r\n",
    "data.drop(columns=['ct_weapon_galilar','t_weapon_galilar'], axis=1, inplace=True)\r\n",
    "\r\n",
    "data['weapon_glock'] = data['ct_weapon_glock']-data['t_weapon_glock']\r\n",
    "data.drop(columns=['ct_weapon_glock','t_weapon_glock'], axis=1, inplace=True)\r\n",
    "\r\n",
    "data['weapon_m249'] = data['ct_weapon_m249']-data['t_weapon_m249']\r\n",
    "data.drop(columns=['ct_weapon_m249','t_weapon_m249'], axis=1, inplace=True)\r\n",
    "\r\n",
    "data['weapon_m4a1s'] = data['ct_weapon_m4a1s']-data['t_weapon_m4a1s']\r\n",
    "data.drop(columns=['ct_weapon_m4a1s','t_weapon_m4a1s'], axis=1, inplace=True)\r\n",
    "\r\n",
    "data['weapon_m4a4'] = data['ct_weapon_m4a4']-data['t_weapon_m4a4']\r\n",
    "data.drop(columns=['ct_weapon_m4a4','t_weapon_m4a4'], axis=1, inplace=True)\r\n",
    "\r\n",
    "data['weapon_mac10'] = data['ct_weapon_mac10']-data['t_weapon_mac10']\r\n",
    "data.drop(columns=['ct_weapon_mac10','t_weapon_mac10'], axis=1, inplace=True)\r\n",
    "\r\n",
    "data['weapon_mag7'] = data['ct_weapon_mag7']-data['t_weapon_mag7']\r\n",
    "data.drop(columns=['ct_weapon_mag7','t_weapon_mag7'], axis=1, inplace=True)\r\n",
    "\r\n",
    "data['weapon_mp5sd'] = data['ct_weapon_mp5sd']-data['t_weapon_mp5sd']\r\n",
    "data.drop(columns=['ct_weapon_mp5sd','t_weapon_mp5sd'], axis=1, inplace=True)\r\n",
    "\r\n",
    "data['weapon_mp7'] = data['ct_weapon_mp7']-data['t_weapon_mp7']\r\n",
    "data.drop(columns=['ct_weapon_mp7','t_weapon_mp7'], axis=1, inplace=True)\r\n",
    "\r\n",
    "data['weapon_mp9'] = data['ct_weapon_mp9']-data['t_weapon_mp9']\r\n",
    "data.drop(columns=['ct_weapon_mp9','t_weapon_mp9'], axis=1, inplace=True)\r\n",
    "\r\n",
    "data['weapon_negev'] = data['ct_weapon_negev']-data['t_weapon_negev']\r\n",
    "data.drop(columns=['ct_weapon_negev','t_weapon_negev'], axis=1, inplace=True)\r\n",
    "\r\n",
    "data['weapon_nova'] = data['ct_weapon_nova']-data['t_weapon_nova']\r\n",
    "data.drop(columns=['ct_weapon_nova','t_weapon_nova'], axis=1, inplace=True)\r\n",
    "\r\n",
    "data['weapon_p90'] = data['ct_weapon_p90']-data['t_weapon_p90']\r\n",
    "data.drop(columns=['ct_weapon_p90','t_weapon_p90'], axis=1, inplace=True)\r\n",
    "\r\n",
    "data['weapon_r8revolver'] = data['ct_weapon_r8revolver']-data['t_weapon_r8revolver']\r\n",
    "data.drop(columns=['ct_weapon_r8revolver','t_weapon_r8revolver'], axis=1, inplace=True)\r\n",
    "\r\n",
    "data['weapon_sawedoff'] = data['ct_weapon_sawedoff']-data['t_weapon_sawedoff']\r\n",
    "data.drop(columns=['ct_weapon_sawedoff','t_weapon_sawedoff'], axis=1, inplace=True)\r\n",
    "\r\n",
    "data['weapon_scar20'] = data['ct_weapon_scar20']-data['t_weapon_scar20']\r\n",
    "data.drop(columns=['ct_weapon_scar20','t_weapon_scar20'], axis=1, inplace=True)\r\n",
    "\r\n",
    "data['weapon_sg553'] = data['ct_weapon_sg553']-data['t_weapon_sg553']\r\n",
    "data.drop(columns=['ct_weapon_sg553','t_weapon_sg553'], axis=1, inplace=True)\r\n",
    "\r\n",
    "data['weapon_ssg08'] = data['ct_weapon_ssg08']-data['t_weapon_ssg08']\r\n",
    "data.drop(columns=['ct_weapon_ssg08','t_weapon_ssg08'], axis=1, inplace=True)\r\n",
    "\r\n",
    "data['weapon_ump45'] = data['ct_weapon_ump45']-data['t_weapon_ump45']\r\n",
    "data.drop(columns=['ct_weapon_ump45','t_weapon_ump45'], axis=1, inplace=True)\r\n",
    "\r\n",
    "data['weapon_xm1014'] = data['ct_weapon_xm1014']-data['t_weapon_xm1014']\r\n",
    "data.drop(columns=['ct_weapon_xm1014','t_weapon_xm1014'], axis=1, inplace=True)\r\n",
    "\r\n",
    "data['weapon_deagle'] = data['ct_weapon_deagle']-data['t_weapon_deagle']\r\n",
    "data.drop(columns=['ct_weapon_deagle','t_weapon_deagle'], axis=1, inplace=True)\r\n",
    "\r\n",
    "data['weapon_fiveseven'] = data['ct_weapon_fiveseven']-data['t_weapon_fiveseven']\r\n",
    "data.drop(columns=['ct_weapon_fiveseven','t_weapon_fiveseven'], axis=1, inplace=True)\r\n",
    "\r\n",
    "data['weapon_usps'] = data['ct_weapon_usps']-data['t_weapon_usps']\r\n",
    "data.drop(columns=['ct_weapon_usps','t_weapon_usps'], axis=1, inplace=True)\r\n",
    "\r\n",
    "data['weapon_p250'] = data['ct_weapon_p250']-data['t_weapon_p250']\r\n",
    "data.drop(columns=['ct_weapon_p250','t_weapon_p250'], axis=1, inplace=True)\r\n",
    "\r\n",
    "data['weapon_p2000'] = data['ct_weapon_p2000']-data['t_weapon_p2000']\r\n",
    "data.drop(columns=['ct_weapon_p2000','t_weapon_p2000'], axis=1, inplace=True)\r\n",
    "\r\n",
    "data['weapon_tec9'] = data['ct_weapon_tec9']-data['t_weapon_tec9']\r\n",
    "data.drop(columns=['ct_weapon_tec9','t_weapon_tec9'], axis=1, inplace=True)\r\n",
    "\r\n",
    "data['grenade_hegrenade'] = data['ct_grenade_hegrenade']-data['t_grenade_hegrenade']\r\n",
    "data.drop(columns=['ct_grenade_hegrenade','t_grenade_hegrenade'], axis=1, inplace=True)\r\n",
    "\r\n",
    "data['grenade_flashbang'] = data['ct_grenade_flashbang']-data['t_grenade_flashbang']\r\n",
    "data.drop(columns=['ct_grenade_flashbang','t_grenade_flashbang'], axis=1, inplace=True)\r\n",
    "\r\n",
    "data['grenade_smokegrenade'] = data['ct_grenade_smokegrenade']-data['t_grenade_smokegrenade']\r\n",
    "data.drop(columns=['ct_grenade_smokegrenade','t_grenade_smokegrenade'], axis=1, inplace=True)\r\n",
    "\r\n",
    "data['grenade_incendiarygrenade'] = data['ct_grenade_incendiarygrenade']-data['t_grenade_incendiarygrenade']\r\n",
    "data.drop(columns=['ct_grenade_incendiarygrenade','t_grenade_incendiarygrenade'], axis=1, inplace=True)\r\n",
    "\r\n",
    "data['grenade_molotovgrenade'] = data['ct_grenade_molotovgrenade']-data['t_grenade_molotovgrenade']\r\n",
    "data.drop(columns=['ct_grenade_molotovgrenade','t_grenade_molotovgrenade'], axis=1, inplace=True)\r\n",
    "\r\n",
    "data['grenade_decoygrenade'] = data['ct_grenade_decoygrenade']-data['t_grenade_decoygrenade']\r\n",
    "data.drop(columns=['ct_grenade_decoygrenade','t_grenade_decoygrenade'], axis=1, inplace=True)\r\n",
    "\r\n",
    "data.drop(columns=['time_left'], axis=1, inplace=True)\r\n",
    "\r\n",
    "data.columns"
   ],
   "outputs": [
    {
     "output_type": "execute_result",
     "data": {
      "text/plain": [
       "Index(['map', 'bomb_planted', 'ct_defuse_kits', 'round_winner',\n",
       "       'players_alive', 'score', 'health', 'armor', 'money', 'helmets',\n",
       "       'weapon_ak47', 'weapon_aug', 'weapon_awp', 'weapon_bizon',\n",
       "       'weapon_cz75auto', 'weapon_elite', 'weapon_famas', 'weapon_g3sg1',\n",
       "       'weapon_galilar', 'weapon_glock', 'weapon_m249', 'weapon_m4a1s',\n",
       "       'weapon_m4a4', 'weapon_mac10', 'weapon_mag7', 'weapon_mp5sd',\n",
       "       'weapon_mp7', 'weapon_mp9', 'weapon_negev', 'weapon_nova', 'weapon_p90',\n",
       "       'weapon_r8revolver', 'weapon_sawedoff', 'weapon_scar20', 'weapon_sg553',\n",
       "       'weapon_ssg08', 'weapon_ump45', 'weapon_xm1014', 'weapon_deagle',\n",
       "       'weapon_fiveseven', 'weapon_usps', 'weapon_p250', 'weapon_p2000',\n",
       "       'weapon_tec9', 'grenade_hegrenade', 'grenade_flashbang',\n",
       "       'grenade_smokegrenade', 'grenade_incendiarygrenade',\n",
       "       'grenade_molotovgrenade', 'grenade_decoygrenade'],\n",
       "      dtype='object')"
      ]
     },
     "metadata": {},
     "execution_count": 300
    }
   ],
   "metadata": {}
  },
  {
   "cell_type": "code",
   "execution_count": 247,
   "source": [
    "ax = sns.histplot(data=data, x='weapon_sawedoff', hue='round_winner')\r\n",
    "ax.set_yscale('log')"
   ],
   "outputs": [
    {
     "output_type": "display_data",
     "data": {
      "text/plain": [
       "<Figure size 432x288 with 1 Axes>"
      ],
      "image/png": "[encoded data removed]"
     },
     "metadata": {
      "needs_background": "light"
     }
    }
   ],
   "metadata": {}
  },
  {
   "cell_type": "code",
   "execution_count": 296,
   "source": [
    "test = data\r\n",
    "\r\n",
    "test['new'] = test['ct_defuse_kits'] - test['bomb_planted']\r\n",
    "\r\n",
    "ax = sns.histplot(data=test, x='new', hue='round_winner')\r\n",
    "#ax.set_yscale('log')"
   ],
   "outputs": [
    {
     "output_type": "display_data",
     "data": {
      "text/plain": [
       "<Figure size 432x288 with 1 Axes>"
      ],
      "image/png": "[encoded data removed]"
     },
     "metadata": {
      "needs_background": "light"
     }
    }
   ],
   "metadata": {}
  },
  {
   "cell_type": "code",
   "execution_count": 287,
   "source": [
    "weapons = ['weapon_ak47', 'weapon_aug', 'weapon_awp', 'weapon_bizon',\r\n",
    "       'weapon_cz75auto', 'weapon_elite', 'weapon_famas', 'weapon_g3sg1',\r\n",
    "       'weapon_galilar', 'weapon_glock', 'weapon_m249', 'weapon_m4a1s',\r\n",
    "       'weapon_m4a4', 'weapon_mac10', 'weapon_mag7', 'weapon_mp5sd',\r\n",
    "       'weapon_mp7', 'weapon_mp9', 'weapon_negev', 'weapon_nova', 'weapon_p90',\r\n",
    "       'weapon_r8revolver', 'weapon_sawedoff', 'weapon_scar20', 'weapon_sg553',\r\n",
    "       'weapon_ssg08', 'weapon_ump45', 'weapon_xm1014', 'weapon_deagle',\r\n",
    "       'weapon_fiveseven', 'weapon_usps', 'weapon_p250', 'weapon_p2000',\r\n",
    "       'weapon_tec9']\r\n",
    "\r\n",
    "granades = ['grenade_hegrenade', 'grenade_flashbang',\r\n",
    "       'grenade_smokegrenade', 'grenade_incendiarygrenade',\r\n",
    "       'grenade_molotovgrenade', 'grenade_decoygrenade']\r\n",
    "\r\n",
    "\r\n",
    "data['weapons'] = data[weapons].sum(axis=1)\r\n",
    "data['granades'] = data[granades].sum(axis=1)\r\n",
    "\r\n",
    "data.drop(columns=weapons, axis=1, inplace=True)\r\n",
    "data.drop(columns=granades, axis=1, inplace=True)"
   ],
   "outputs": [],
   "metadata": {}
  },
  {
   "cell_type": "code",
   "execution_count": 288,
   "source": [
    "data.columns"
   ],
   "outputs": [
    {
     "output_type": "execute_result",
     "data": {
      "text/plain": [
       "Index(['map', 'bomb_planted', 'ct_defuse_kits', 'round_winner',\n",
       "       'players_alive', 'score', 'health', 'armor', 'money', 'helmets',\n",
       "       'weapons', 'granades'],\n",
       "      dtype='object')"
      ]
     },
     "metadata": {},
     "execution_count": 288
    }
   ],
   "metadata": {}
  },
  {
   "cell_type": "code",
   "execution_count": 289,
   "source": [
    "data = data.sample(frac=1).reset_index(drop=True)\r\n",
    "\r\n",
    "y = data['round_winner']\r\n",
    "X = data.drop(columns='round_winner')"
   ],
   "outputs": [],
   "metadata": {}
  },
  {
   "cell_type": "code",
   "execution_count": 290,
   "source": [
    "from sklearn.preprocessing import LabelEncoder\r\n",
    "\r\n",
    "lEncoder = LabelEncoder()\r\n",
    "\r\n",
    "y = lEncoder.fit_transform(y)"
   ],
   "outputs": [],
   "metadata": {}
  },
  {
   "cell_type": "code",
   "execution_count": 291,
   "source": [
    "from sklearn.model_selection import train_test_split\r\n",
    "\r\n",
    "X_train, X_test, y_train, y_test = train_test_split(X, y, test_size=0.33, random_state=42)\r\n",
    "\r\n",
    "X.shape, X_train.shape, X_test.shape"
   ],
   "outputs": [
    {
     "output_type": "execute_result",
     "data": {
      "text/plain": [
       "((122410, 11), (82014, 11), (40396, 11))"
      ]
     },
     "metadata": {},
     "execution_count": 291
    }
   ],
   "metadata": {}
  },
  {
   "cell_type": "code",
   "execution_count": 292,
   "source": [
    "from sklearn.preprocessing import OneHotEncoder, StandardScaler, RobustScaler\r\n",
    "from sklearn.preprocessing import OrdinalEncoder\r\n",
    "from sklearn.compose import ColumnTransformer\r\n",
    "from sklearn.pipeline import Pipeline\r\n",
    "\r\n",
    "\r\n",
    "numeric_features = ['ct_defuse_kits',\r\n",
    "       'players_alive', 'score', 'health', 'armor', 'money', 'helmets',\r\n",
    "       'weapons', 'granades']\r\n",
    "numeric_transformer = Pipeline(steps=[\r\n",
    "    ('robust', RobustScaler())\r\n",
    "    ,('standard', StandardScaler())\r\n",
    "    ])\r\n",
    "\r\n",
    "categorical_features = ['map']\r\n",
    "categorical_transformer = OneHotEncoder(handle_unknown='ignore')\r\n",
    "\r\n",
    "boolean_features = ['bomb_planted']\r\n",
    "boolean_transformer = OrdinalEncoder()\r\n",
    "\r\n",
    "preprocessor = ColumnTransformer(\r\n",
    "    transformers=[\r\n",
    "        ('num', numeric_transformer, numeric_features),\r\n",
    "        ('cat', categorical_transformer, categorical_features),\r\n",
    "        ('b', boolean_transformer, boolean_features)\r\n",
    "        ])\r\n",
    "\r\n",
    "pre = Pipeline(steps=[('preprocessor', preprocessor)])\r\n",
    "\r\n",
    "X_train = pd.DataFrame(pre.fit_transform(X_train))\r\n",
    "X_test = pd.DataFrame(pre.transform(X_test))"
   ],
   "outputs": [],
   "metadata": {}
  },
  {
   "cell_type": "code",
   "execution_count": 293,
   "source": [
    "cols = numeric_features + ['de_inferno','de_dust2','de_nuke','de_mirage','de_overpass','de_train','de_vertigo','de_cache'] +  boolean_features\r\n",
    "X_train.columns = cols\r\n",
    "X_test.columns = cols"
   ],
   "outputs": [],
   "metadata": {}
  },
  {
   "cell_type": "code",
   "execution_count": 256,
   "source": [
    "from sklearn.linear_model import LogisticRegression\r\n",
    "from sklearn.tree import DecisionTreeClassifier\r\n",
    "from sklearn.neighbors import KNeighborsClassifier\r\n",
    "from sklearn.ensemble import RandomForestClassifier\r\n",
    "from sklearn.ensemble import AdaBoostClassifier\r\n",
    "from sklearn.ensemble import BaggingClassifier\r\n",
    "from sklearn.ensemble import ExtraTreesClassifier\r\n",
    "from xgboost import XGBClassifier\r\n",
    "\r\n",
    "log_model = LogisticRegression()\r\n",
    "xgbc = XGBClassifier()\r\n",
    "dtc = DecisionTreeClassifier(random_state=111)\r\n",
    "knc = KNeighborsClassifier()\r\n",
    "lrc = LogisticRegression()\r\n",
    "rfc = RandomForestClassifier(random_state=111)\r\n",
    "abc = AdaBoostClassifier(random_state=111)\r\n",
    "bc = BaggingClassifier(random_state=111)\r\n",
    "etc = ExtraTreesClassifier(random_state=111)\r\n"
   ],
   "outputs": [],
   "metadata": {}
  },
  {
   "cell_type": "code",
   "execution_count": 257,
   "source": [
    "log_model.fit(X_train, y_train)\r\n",
    "xgbc.fit(X_train, y_train)\r\n",
    "dtc.fit(X_train, y_train)\r\n",
    "knc.fit(X_train, y_train)\r\n",
    "lrc.fit(X_train, y_train)\r\n",
    "rfc.fit(X_train, y_train)\r\n",
    "abc.fit(X_train, y_train)\r\n",
    "bc.fit(X_train, y_train)\r\n",
    "etc.fit(X_train, y_train)"
   ],
   "outputs": [
    {
     "output_type": "stream",
     "name": "stderr",
     "text": [
      "C:\\Users\\juanm\\AppData\\Local\\Programs\\Python\\Python37\\lib\\site-packages\\xgboost\\sklearn.py:892: UserWarning: The use of label encoder in XGBClassifier is deprecated and will be removed in a future release. To remove this warning, do the following: 1) Pass option use_label_encoder=False when constructing XGBClassifier object; and 2) Encode your labels (y) as integers starting with 0, i.e. 0, 1, 2, ..., [num_class - 1].\n",
      "  warnings.warn(label_encoder_deprecation_msg, UserWarning)\n"
     ]
    },
    {
     "output_type": "stream",
     "name": "stdout",
     "text": [
      "[00:38:49] WARNING: C:/Users/Administrator/workspace/xgboost-win64_release_1.3.0/src/learner.cc:1061: Starting in XGBoost 1.3.0, the default evaluation metric used with the objective 'binary:logistic' was changed from 'error' to 'logloss'. Explicitly set eval_metric if you'd like to restore the old behavior.\n"
     ]
    },
    {
     "output_type": "execute_result",
     "data": {
      "text/plain": [
       "ExtraTreesClassifier(random_state=111)"
      ]
     },
     "metadata": {},
     "execution_count": 257
    }
   ],
   "metadata": {}
  },
  {
   "cell_type": "code",
   "execution_count": 260,
   "source": [
    "from sklearn.metrics import f1_score\r\n",
    "\r\n",
    "print('log_model', f1_score(log_model.predict(X_test), y_test))\r\n",
    "print('xgbc', f1_score(xgbc.predict(X_test), y_test))\r\n",
    "print('dtc', f1_score(dtc.predict(X_test), y_test))\r\n",
    "print('knc', f1_score(knc.predict(X_test), y_test))\r\n",
    "print('lrc', f1_score(lrc.predict(X_test), y_test))\r\n",
    "print('rfc', f1_score(rfc.predict(X_test), y_test))\r\n",
    "print('abc', f1_score(abc.predict(X_test), y_test))\r\n",
    "print('bc', f1_score(bc.predict(X_test), y_test))\r\n",
    "print('etc', f1_score(etc.predict(X_test), y_test))"
   ],
   "outputs": [
    {
     "output_type": "stream",
     "name": "stdout",
     "text": [
      "log_model 0.7500181479420234\n",
      "xgbc 0.7744527915741134\n",
      "dtc 0.7819343510705751\n",
      "knc 0.7847680500562154\n",
      "lrc 0.7500181479420234\n",
      "rfc 0.8384059935431402\n",
      "abc 0.7407666200838492\n",
      "bc 0.8080449870814125\n",
      "etc 0.8385480622820375\n"
     ]
    }
   ],
   "metadata": {}
  },
  {
   "cell_type": "code",
   "execution_count": 264,
   "source": [
    "from sklearn.model_selection import GridSearchCV\r\n",
    "\r\n",
    "search_space = {\r\n",
    "      \"n_estimators\":[100, 120, 150],\r\n",
    "      \"max_features\":['auto', 'log2'],\r\n",
    "      \"bootstrap\": [True, False],\r\n",
    "      \"random_state\":[111]\r\n",
    "      }"
   ],
   "outputs": [],
   "metadata": {}
  },
  {
   "cell_type": "code",
   "execution_count": 265,
   "source": [
    "grid = GridSearchCV(estimator=RandomForestClassifier(), \r\n",
    "                    param_grid=search_space,\r\n",
    "                    cv=3,\r\n",
    "                    scoring='f1_macro',  # Accuracy\r\n",
    "                    return_train_score=True,\r\n",
    "                    n_jobs=-1,  # AUC == ROC\r\n",
    "                    verbose=10) "
   ],
   "outputs": [],
   "metadata": {}
  },
  {
   "cell_type": "code",
   "execution_count": 266,
   "source": [
    "best_model = grid.fit(X_train,y_train)"
   ],
   "outputs": [
    {
     "output_type": "stream",
     "name": "stdout",
     "text": [
      "Fitting 3 folds for each of 12 candidates, totalling 36 fits\n"
     ]
    },
    {
     "output_type": "stream",
     "name": "stderr",
     "text": [
      "[Parallel(n_jobs=-1)]: Using backend LokyBackend with 8 concurrent workers.\n",
      "[Parallel(n_jobs=-1)]: Done   2 tasks      | elapsed:   26.9s\n",
      "[Parallel(n_jobs=-1)]: Done   9 tasks      | elapsed:   48.3s\n",
      "[Parallel(n_jobs=-1)]: Done  16 tasks      | elapsed:  1.1min\n",
      "[Parallel(n_jobs=-1)]: Done  25 out of  36 | elapsed:  2.1min remaining:   56.2s\n",
      "[Parallel(n_jobs=-1)]: Done  29 out of  36 | elapsed:  2.3min remaining:   32.6s\n",
      "[Parallel(n_jobs=-1)]: Done  33 out of  36 | elapsed:  2.6min remaining:   14.1s\n",
      "[Parallel(n_jobs=-1)]: Done  36 out of  36 | elapsed:  2.7min finished\n"
     ]
    }
   ],
   "metadata": {}
  },
  {
   "cell_type": "code",
   "execution_count": 267,
   "source": [
    "print(best_model.best_params_)"
   ],
   "outputs": [
    {
     "output_type": "stream",
     "name": "stdout",
     "text": [
      "{'bootstrap': False, 'max_features': 'auto', 'n_estimators': 150, 'random_state': 111}\n"
     ]
    }
   ],
   "metadata": {}
  },
  {
   "cell_type": "code",
   "execution_count": 294,
   "source": [
    "rfc_best = RandomForestClassifier(bootstrap=False, n_estimators=150)\r\n",
    "\r\n",
    "rfc_best.fit(X_train, y_train)\r\n",
    "\r\n",
    "print('rfc', rfc_best.score(X_test, y_test))"
   ],
   "outputs": [
    {
     "output_type": "stream",
     "name": "stdout",
     "text": [
      "rfc 0.8563719180116843\n"
     ]
    }
   ],
   "metadata": {}
  },
  {
   "cell_type": "code",
   "execution_count": 295,
   "source": [
    "sorted_idx = rfc_best.feature_importances_.argsort()\r\n",
    "plt.barh(X_train.columns, rfc.feature_importances_[sorted_idx])\r\n",
    "plt.xlabel(\"Random Forest Feature Importance\")"
   ],
   "outputs": [
    {
     "output_type": "execute_result",
     "data": {
      "text/plain": [
       "Text(0.5, 0, 'Random Forest Feature Importance')"
      ]
     },
     "metadata": {},
     "execution_count": 295
    },
    {
     "output_type": "display_data",
     "data": {
      "text/plain": [
       "<Figure size 432x288 with 1 Axes>"
      ],
      "image/png": "[encoded data removed]"
     },
     "metadata": {
      "needs_background": "light"
     }
    }
   ],
   "metadata": {}
  },
  {
   "cell_type": "code",
   "execution_count": 306,
   "source": [
    "print(rfc_best.feature_importances_)\r\n"
   ],
   "outputs": [
    {
     "output_type": "stream",
     "name": "stdout",
     "text": [
      "[0.04636853 0.03695585 0.09267197 0.08543101 0.20131431 0.1503669\n",
      " 0.09483587 0.13823948 0.08324129 0.00040565 0.0095358  0.0087872\n",
      " 0.00918303 0.00867624 0.00792101 0.00757533 0.00727346 0.01121707]\n"
     ]
    }
   ],
   "metadata": {}
  }
 ],
 "metadata": {
  "orig_nbformat": 4,
  "language_info": {
   "name": "python",
   "version": "3.7.9",
   "mimetype": "text/x-python",
   "codemirror_mode": {
    "name": "ipython",
    "version": 3
   },
   "pygments_lexer": "ipython3",
   "nbconvert_exporter": "python",
   "file_extension": ".py"
  },
  "kernelspec": {
   "name": "python3",
   "display_name": "Python 3.7.9 64-bit"
  },
  "interpreter": {
   "hash": "b07df32797ebab3fa70d4a9f70db79d16446676c9594683b5222a41098e20e60"
  }
 },
 "nbformat": 4,
 "nbformat_minor": 2
}