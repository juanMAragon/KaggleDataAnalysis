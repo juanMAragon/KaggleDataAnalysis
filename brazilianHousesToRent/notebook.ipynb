{
 "cells": [
  {
   "cell_type": "code",
   "execution_count": 3,
   "source": [
    "import pandas as pd\r\n",
    "import numpy as np"
   ],
   "outputs": [],
   "metadata": {}
  },
  {
   "cell_type": "code",
   "execution_count": 4,
   "source": [
    "data = pd.read_csv('./houses_to_rent.csv')"
   ],
   "outputs": [],
   "metadata": {}
  },
  {
   "cell_type": "code",
   "execution_count": 5,
   "source": [
    "#removing the index column \r\n",
    "data.drop(data.columns[0],axis=1, inplace=True)"
   ],
   "outputs": [],
   "metadata": {}
  },
  {
   "cell_type": "code",
   "execution_count": 6,
   "source": [
    "print(data.shape)\r\n",
    "data.head(20)"
   ],
   "outputs": [
    {
     "output_type": "stream",
     "name": "stdout",
     "text": [
      "(6080, 13)\n"
     ]
    },
    {
     "output_type": "execute_result",
     "data": {
      "text/plain": [
       "    city  area  rooms  bathroom  parking spaces floor     animal  \\\n",
       "0      1   240      3         3               4     -      acept   \n",
       "1      0    64      2         1               1    10      acept   \n",
       "2      1   443      5         5               4     3      acept   \n",
       "3      1    73      2         2               1    12      acept   \n",
       "4      1    19      1         1               0     -  not acept   \n",
       "5      1    13      1         1               0     2      acept   \n",
       "6      1    55      1         1               1     2      acept   \n",
       "7      1    55      2         2               1     2      acept   \n",
       "8      1    82      3         1               1     3      acept   \n",
       "9      1    32      1         1               1    16      acept   \n",
       "10     0    60      1         1               0     6      acept   \n",
       "11     0    64      1         2               1     4      acept   \n",
       "12     1    20      1         1               0     4      acept   \n",
       "13     1   375      4         5               5     1      acept   \n",
       "14     1    92      2         1               1     7  not acept   \n",
       "15     0    56      2         1               1     1      acept   \n",
       "16     0   188      2         3               8     -      acept   \n",
       "17     1   100      3         2               1     -      acept   \n",
       "18     1   192      3         3               2    13      acept   \n",
       "19     1    93      3         2               1    10      acept   \n",
       "\n",
       "        furniture      hoa rent amount property tax fire insurance     total  \n",
       "0       furnished      R$0     R$8,000      R$1,000          R$121   R$9,121  \n",
       "1   not furnished    R$540       R$820        R$122           R$11   R$1,493  \n",
       "2       furnished  R$4,172     R$7,000      R$1,417           R$89  R$12,680  \n",
       "3   not furnished    R$700     R$1,250        R$150           R$16   R$2,116  \n",
       "4   not furnished      R$0     R$1,200         R$41           R$16   R$1,257  \n",
       "5   not furnished      R$0     R$2,200         R$42           R$28   R$2,270  \n",
       "6       furnished  R$1,950     R$5,000        R$375           R$64   R$7,389  \n",
       "7   not furnished    R$600     R$1,300         R$67           R$17   R$1,984  \n",
       "8       furnished    R$828     R$2,000        R$109           R$26   R$2,963  \n",
       "9   not furnished    R$533     R$2,900          R$0           R$37   R$3,470  \n",
       "10  not furnished    R$480       R$720         R$20           R$10   R$1,230  \n",
       "11      furnished    R$406     R$1,550          R$0            R$7   R$1,963  \n",
       "12      furnished    R$602     R$1,800        R$130           R$23   R$2,555  \n",
       "13  not furnished  R$4,793    R$15,000      R$2,805          R$191  R$22,790  \n",
       "14      furnished    R$690     R$3,950          R$0           R$51   R$4,691  \n",
       "15  not furnished    R$345       R$950         R$11           R$13   R$1,319  \n",
       "16  not furnished      R$0     R$3,010        R$584           R$46   R$3,640  \n",
       "17  not furnished      R$0     R$3,500        R$260           R$53   R$3,813  \n",
       "18  not furnished  R$2,100     R$7,800        R$634           R$99  R$10,630  \n",
       "19  not furnished  R$1,497     R$3,500        R$227           R$45   R$5,269  "
      ],
      "text/html": [
       "<div>\n",
       "<style scoped>\n",
       "    .dataframe tbody tr th:only-of-type {\n",
       "        vertical-align: middle;\n",
       "    }\n",
       "\n",
       "    .dataframe tbody tr th {\n",
       "        vertical-align: top;\n",
       "    }\n",
       "\n",
       "    .dataframe thead th {\n",
       "        text-align: right;\n",
       "    }\n",
       "</style>\n",
       "<table border=\"1\" class=\"dataframe\">\n",
       "  <thead>\n",
       "    <tr style=\"text-align: right;\">\n",
       "      <th></th>\n",
       "      <th>city</th>\n",
       "      <th>area</th>\n",
       "      <th>rooms</th>\n",
       "      <th>bathroom</th>\n",
       "      <th>parking spaces</th>\n",
       "      <th>floor</th>\n",
       "      <th>animal</th>\n",
       "      <th>furniture</th>\n",
       "      <th>hoa</th>\n",
       "      <th>rent amount</th>\n",
       "      <th>property tax</th>\n",
       "      <th>fire insurance</th>\n",
       "      <th>total</th>\n",
       "    </tr>\n",
       "  </thead>\n",
       "  <tbody>\n",
       "    <tr>\n",
       "      <th>0</th>\n",
       "      <td>1</td>\n",
       "      <td>240</td>\n",
       "      <td>3</td>\n",
       "      <td>3</td>\n",
       "      <td>4</td>\n",
       "      <td>-</td>\n",
       "      <td>acept</td>\n",
       "      <td>furnished</td>\n",
       "      <td>R$0</td>\n",
       "      <td>R$8,000</td>\n",
       "      <td>R$1,000</td>\n",
       "      <td>R$121</td>\n",
       "      <td>R$9,121</td>\n",
       "    </tr>\n",
       "    <tr>\n",
       "      <th>1</th>\n",
       "      <td>0</td>\n",
       "      <td>64</td>\n",
       "      <td>2</td>\n",
       "      <td>1</td>\n",
       "      <td>1</td>\n",
       "      <td>10</td>\n",
       "      <td>acept</td>\n",
       "      <td>not furnished</td>\n",
       "      <td>R$540</td>\n",
       "      <td>R$820</td>\n",
       "      <td>R$122</td>\n",
       "      <td>R$11</td>\n",
       "      <td>R$1,493</td>\n",
       "    </tr>\n",
       "    <tr>\n",
       "      <th>2</th>\n",
       "      <td>1</td>\n",
       "      <td>443</td>\n",
       "      <td>5</td>\n",
       "      <td>5</td>\n",
       "      <td>4</td>\n",
       "      <td>3</td>\n",
       "      <td>acept</td>\n",
       "      <td>furnished</td>\n",
       "      <td>R$4,172</td>\n",
       "      <td>R$7,000</td>\n",
       "      <td>R$1,417</td>\n",
       "      <td>R$89</td>\n",
       "      <td>R$12,680</td>\n",
       "    </tr>\n",
       "    <tr>\n",
       "      <th>3</th>\n",
       "      <td>1</td>\n",
       "      <td>73</td>\n",
       "      <td>2</td>\n",
       "      <td>2</td>\n",
       "      <td>1</td>\n",
       "      <td>12</td>\n",
       "      <td>acept</td>\n",
       "      <td>not furnished</td>\n",
       "      <td>R$700</td>\n",
       "      <td>R$1,250</td>\n",
       "      <td>R$150</td>\n",
       "      <td>R$16</td>\n",
       "      <td>R$2,116</td>\n",
       "    </tr>\n",
       "    <tr>\n",
       "      <th>4</th>\n",
       "      <td>1</td>\n",
       "      <td>19</td>\n",
       "      <td>1</td>\n",
       "      <td>1</td>\n",
       "      <td>0</td>\n",
       "      <td>-</td>\n",
       "      <td>not acept</td>\n",
       "      <td>not furnished</td>\n",
       "      <td>R$0</td>\n",
       "      <td>R$1,200</td>\n",
       "      <td>R$41</td>\n",
       "      <td>R$16</td>\n",
       "      <td>R$1,257</td>\n",
       "    </tr>\n",
       "    <tr>\n",
       "      <th>5</th>\n",
       "      <td>1</td>\n",
       "      <td>13</td>\n",
       "      <td>1</td>\n",
       "      <td>1</td>\n",
       "      <td>0</td>\n",
       "      <td>2</td>\n",
       "      <td>acept</td>\n",
       "      <td>not furnished</td>\n",
       "      <td>R$0</td>\n",
       "      <td>R$2,200</td>\n",
       "      <td>R$42</td>\n",
       "      <td>R$28</td>\n",
       "      <td>R$2,270</td>\n",
       "    </tr>\n",
       "    <tr>\n",
       "      <th>6</th>\n",
       "      <td>1</td>\n",
       "      <td>55</td>\n",
       "      <td>1</td>\n",
       "      <td>1</td>\n",
       "      <td>1</td>\n",
       "      <td>2</td>\n",
       "      <td>acept</td>\n",
       "      <td>furnished</td>\n",
       "      <td>R$1,950</td>\n",
       "      <td>R$5,000</td>\n",
       "      <td>R$375</td>\n",
       "      <td>R$64</td>\n",
       "      <td>R$7,389</td>\n",
       "    </tr>\n",
       "    <tr>\n",
       "      <th>7</th>\n",
       "      <td>1</td>\n",
       "      <td>55</td>\n",
       "      <td>2</td>\n",
       "      <td>2</td>\n",
       "      <td>1</td>\n",
       "      <td>2</td>\n",
       "      <td>acept</td>\n",
       "      <td>not furnished</td>\n",
       "      <td>R$600</td>\n",
       "      <td>R$1,300</td>\n",
       "      <td>R$67</td>\n",
       "      <td>R$17</td>\n",
       "      <td>R$1,984</td>\n",
       "    </tr>\n",
       "    <tr>\n",
       "      <th>8</th>\n",
       "      <td>1</td>\n",
       "      <td>82</td>\n",
       "      <td>3</td>\n",
       "      <td>1</td>\n",
       "      <td>1</td>\n",
       "      <td>3</td>\n",
       "      <td>acept</td>\n",
       "      <td>furnished</td>\n",
       "      <td>R$828</td>\n",
       "      <td>R$2,000</td>\n",
       "      <td>R$109</td>\n",
       "      <td>R$26</td>\n",
       "      <td>R$2,963</td>\n",
       "    </tr>\n",
       "    <tr>\n",
       "      <th>9</th>\n",
       "      <td>1</td>\n",
       "      <td>32</td>\n",
       "      <td>1</td>\n",
       "      <td>1</td>\n",
       "      <td>1</td>\n",
       "      <td>16</td>\n",
       "      <td>acept</td>\n",
       "      <td>not furnished</td>\n",
       "      <td>R$533</td>\n",
       "      <td>R$2,900</td>\n",
       "      <td>R$0</td>\n",
       "      <td>R$37</td>\n",
       "      <td>R$3,470</td>\n",
       "    </tr>\n",
       "    <tr>\n",
       "      <th>10</th>\n",
       "      <td>0</td>\n",
       "      <td>60</td>\n",
       "      <td>1</td>\n",
       "      <td>1</td>\n",
       "      <td>0</td>\n",
       "      <td>6</td>\n",
       "      <td>acept</td>\n",
       "      <td>not furnished</td>\n",
       "      <td>R$480</td>\n",
       "      <td>R$720</td>\n",
       "      <td>R$20</td>\n",
       "      <td>R$10</td>\n",
       "      <td>R$1,230</td>\n",
       "    </tr>\n",
       "    <tr>\n",
       "      <th>11</th>\n",
       "      <td>0</td>\n",
       "      <td>64</td>\n",
       "      <td>1</td>\n",
       "      <td>2</td>\n",
       "      <td>1</td>\n",
       "      <td>4</td>\n",
       "      <td>acept</td>\n",
       "      <td>furnished</td>\n",
       "      <td>R$406</td>\n",
       "      <td>R$1,550</td>\n",
       "      <td>R$0</td>\n",
       "      <td>R$7</td>\n",
       "      <td>R$1,963</td>\n",
       "    </tr>\n",
       "    <tr>\n",
       "      <th>12</th>\n",
       "      <td>1</td>\n",
       "      <td>20</td>\n",
       "      <td>1</td>\n",
       "      <td>1</td>\n",
       "      <td>0</td>\n",
       "      <td>4</td>\n",
       "      <td>acept</td>\n",
       "      <td>furnished</td>\n",
       "      <td>R$602</td>\n",
       "      <td>R$1,800</td>\n",
       "      <td>R$130</td>\n",
       "      <td>R$23</td>\n",
       "      <td>R$2,555</td>\n",
       "    </tr>\n",
       "    <tr>\n",
       "      <th>13</th>\n",
       "      <td>1</td>\n",
       "      <td>375</td>\n",
       "      <td>4</td>\n",
       "      <td>5</td>\n",
       "      <td>5</td>\n",
       "      <td>1</td>\n",
       "      <td>acept</td>\n",
       "      <td>not furnished</td>\n",
       "      <td>R$4,793</td>\n",
       "      <td>R$15,000</td>\n",
       "      <td>R$2,805</td>\n",
       "      <td>R$191</td>\n",
       "      <td>R$22,790</td>\n",
       "    </tr>\n",
       "    <tr>\n",
       "      <th>14</th>\n",
       "      <td>1</td>\n",
       "      <td>92</td>\n",
       "      <td>2</td>\n",
       "      <td>1</td>\n",
       "      <td>1</td>\n",
       "      <td>7</td>\n",
       "      <td>not acept</td>\n",
       "      <td>furnished</td>\n",
       "      <td>R$690</td>\n",
       "      <td>R$3,950</td>\n",
       "      <td>R$0</td>\n",
       "      <td>R$51</td>\n",
       "      <td>R$4,691</td>\n",
       "    </tr>\n",
       "    <tr>\n",
       "      <th>15</th>\n",
       "      <td>0</td>\n",
       "      <td>56</td>\n",
       "      <td>2</td>\n",
       "      <td>1</td>\n",
       "      <td>1</td>\n",
       "      <td>1</td>\n",
       "      <td>acept</td>\n",
       "      <td>not furnished</td>\n",
       "      <td>R$345</td>\n",
       "      <td>R$950</td>\n",
       "      <td>R$11</td>\n",
       "      <td>R$13</td>\n",
       "      <td>R$1,319</td>\n",
       "    </tr>\n",
       "    <tr>\n",
       "      <th>16</th>\n",
       "      <td>0</td>\n",
       "      <td>188</td>\n",
       "      <td>2</td>\n",
       "      <td>3</td>\n",
       "      <td>8</td>\n",
       "      <td>-</td>\n",
       "      <td>acept</td>\n",
       "      <td>not furnished</td>\n",
       "      <td>R$0</td>\n",
       "      <td>R$3,010</td>\n",
       "      <td>R$584</td>\n",
       "      <td>R$46</td>\n",
       "      <td>R$3,640</td>\n",
       "    </tr>\n",
       "    <tr>\n",
       "      <th>17</th>\n",
       "      <td>1</td>\n",
       "      <td>100</td>\n",
       "      <td>3</td>\n",
       "      <td>2</td>\n",
       "      <td>1</td>\n",
       "      <td>-</td>\n",
       "      <td>acept</td>\n",
       "      <td>not furnished</td>\n",
       "      <td>R$0</td>\n",
       "      <td>R$3,500</td>\n",
       "      <td>R$260</td>\n",
       "      <td>R$53</td>\n",
       "      <td>R$3,813</td>\n",
       "    </tr>\n",
       "    <tr>\n",
       "      <th>18</th>\n",
       "      <td>1</td>\n",
       "      <td>192</td>\n",
       "      <td>3</td>\n",
       "      <td>3</td>\n",
       "      <td>2</td>\n",
       "      <td>13</td>\n",
       "      <td>acept</td>\n",
       "      <td>not furnished</td>\n",
       "      <td>R$2,100</td>\n",
       "      <td>R$7,800</td>\n",
       "      <td>R$634</td>\n",
       "      <td>R$99</td>\n",
       "      <td>R$10,630</td>\n",
       "    </tr>\n",
       "    <tr>\n",
       "      <th>19</th>\n",
       "      <td>1</td>\n",
       "      <td>93</td>\n",
       "      <td>3</td>\n",
       "      <td>2</td>\n",
       "      <td>1</td>\n",
       "      <td>10</td>\n",
       "      <td>acept</td>\n",
       "      <td>not furnished</td>\n",
       "      <td>R$1,497</td>\n",
       "      <td>R$3,500</td>\n",
       "      <td>R$227</td>\n",
       "      <td>R$45</td>\n",
       "      <td>R$5,269</td>\n",
       "    </tr>\n",
       "  </tbody>\n",
       "</table>\n",
       "</div>"
      ]
     },
     "metadata": {},
     "execution_count": 6
    }
   ],
   "metadata": {}
  },
  {
   "cell_type": "code",
   "execution_count": 7,
   "source": [
    "data['floor'].replace(to_replace='-', value=0, inplace=True)"
   ],
   "outputs": [],
   "metadata": {}
  },
  {
   "cell_type": "code",
   "execution_count": 8,
   "source": [
    "data['animal'].replace(to_replace='acept', value=1, inplace=True)\r\n",
    "data['animal'].replace(to_replace='not acept', value=0, inplace=True)"
   ],
   "outputs": [],
   "metadata": {}
  },
  {
   "cell_type": "code",
   "execution_count": 9,
   "source": [
    "data['furniture'].replace(to_replace='furnished', value=1, inplace=True)\r\n",
    "data['furniture'].replace(to_replace='not furnished', value=0, inplace=True)"
   ],
   "outputs": [],
   "metadata": {}
  },
  {
   "cell_type": "code",
   "execution_count": 10,
   "source": [
    "for column in ['hoa', 'rent amount', 'property tax', 'fire insurance', 'total']:\r\n",
    "    data[column].replace(to_replace='R\\$', value='', regex=True, inplace=True)\r\n",
    "    data[column].replace(to_replace=',', value='', regex=True, inplace=True)"
   ],
   "outputs": [],
   "metadata": {}
  },
  {
   "cell_type": "code",
   "execution_count": 11,
   "source": [
    "data['hoa'].replace(to_replace='Sem info', value=0, inplace=True)"
   ],
   "outputs": [],
   "metadata": {}
  },
  {
   "cell_type": "code",
   "execution_count": 12,
   "source": [
    "data['hoa'].replace(to_replace='Incluso', value=0, inplace=True)\r\n",
    "data['property tax'].replace(to_replace='Incluso', value=0, inplace=True)"
   ],
   "outputs": [],
   "metadata": {}
  },
  {
   "cell_type": "code",
   "execution_count": 13,
   "source": [
    "data.isin(['Incluso']).any()"
   ],
   "outputs": [
    {
     "output_type": "execute_result",
     "data": {
      "text/plain": [
       "city              False\n",
       "area              False\n",
       "rooms             False\n",
       "bathroom          False\n",
       "parking spaces    False\n",
       "floor             False\n",
       "animal            False\n",
       "furniture         False\n",
       "hoa               False\n",
       "rent amount       False\n",
       "property tax      False\n",
       "fire insurance    False\n",
       "total             False\n",
       "dtype: bool"
      ]
     },
     "metadata": {},
     "execution_count": 13
    }
   ],
   "metadata": {}
  },
  {
   "cell_type": "code",
   "execution_count": 14,
   "source": [
    "data.isin(['Incluso'])['hoa'].value_counts(), data.isin(['Incluso'])['property tax'].value_counts()"
   ],
   "outputs": [
    {
     "output_type": "execute_result",
     "data": {
      "text/plain": [
       "(False    6080\n",
       " Name: hoa, dtype: int64,\n",
       " False    6080\n",
       " Name: property tax, dtype: int64)"
      ]
     },
     "metadata": {},
     "execution_count": 14
    }
   ],
   "metadata": {}
  },
  {
   "cell_type": "code",
   "execution_count": 15,
   "source": [
    "data = data.astype(dtype=np.int64)"
   ],
   "outputs": [],
   "metadata": {}
  },
  {
   "cell_type": "code",
   "execution_count": 16,
   "source": [
    "data = data.sample(frac=1).reset_index(drop=True)\r\n",
    "\r\n",
    "y = data['city']\r\n",
    "X = data.drop(columns='city')"
   ],
   "outputs": [],
   "metadata": {}
  },
  {
   "cell_type": "code",
   "execution_count": 17,
   "source": [
    "from sklearn.model_selection import train_test_split\r\n",
    "\r\n",
    "X_train, X_test, y_train, y_test = train_test_split(X, y, test_size=0.33, random_state=42)\r\n",
    "\r\n",
    "X.shape, X_train.shape, X_test.shape\r\n"
   ],
   "outputs": [
    {
     "output_type": "execute_result",
     "data": {
      "text/plain": [
       "((6080, 12), (4073, 12), (2007, 12))"
      ]
     },
     "metadata": {},
     "execution_count": 17
    }
   ],
   "metadata": {}
  },
  {
   "cell_type": "code",
   "execution_count": 18,
   "source": [
    "from sklearn.preprocessing import MinMaxScaler\r\n",
    "\r\n",
    "scaler = MinMaxScaler()\r\n",
    "\r\n",
    "column_names = X.columns\r\n",
    "\r\n",
    "X_train = pd.DataFrame(scaler.fit_transform(X_train), columns=column_names)\r\n",
    "X_test = pd.DataFrame(scaler.transform(X_test), columns=column_names)\r\n"
   ],
   "outputs": [],
   "metadata": {}
  },
  {
   "cell_type": "code",
   "execution_count": 19,
   "source": [
    "from sklearn.linear_model import LogisticRegression\r\n",
    "from sklearn.svm import SVC\r\n",
    "from sklearn.naive_bayes import MultinomialNB\r\n",
    "from sklearn.tree import DecisionTreeClassifier\r\n",
    "from sklearn.neighbors import KNeighborsClassifier\r\n",
    "from sklearn.ensemble import RandomForestClassifier\r\n",
    "from sklearn.ensemble import AdaBoostClassifier\r\n",
    "from sklearn.ensemble import BaggingClassifier\r\n",
    "from sklearn.ensemble import ExtraTreesClassifier\r\n",
    "\r\n",
    "from sklearn.neural_network import MLPClassifier\r\n",
    "\r\n",
    "svc = SVC(kernel='sigmoid', gamma=1.0)\r\n",
    "knc = KNeighborsClassifier(n_neighbors=49)\r\n",
    "mnb = MultinomialNB(alpha=0.2)\r\n",
    "dtc = DecisionTreeClassifier(min_samples_split=7, random_state=111)\r\n",
    "lrc = LogisticRegression(solver='liblinear', penalty='l1')\r\n",
    "rfc = RandomForestClassifier(n_estimators=31, random_state=111)\r\n",
    "abc = AdaBoostClassifier(n_estimators=62, random_state=111)\r\n",
    "bc = BaggingClassifier(n_estimators=9, random_state=111)\r\n",
    "etc = ExtraTreesClassifier(n_estimators=9, random_state=111)\r\n",
    "\r\n",
    "log_model = LogisticRegression(penalty='l2', verbose=1)\r\n",
    "svm_model = SVC(kernel='rbf', verbose=1)\r\n",
    "nn_model = MLPClassifier(hidden_layer_sizes=(16,16), activation='relu', solver='adam', verbose=1)"
   ],
   "outputs": [
    {
     "output_type": "stream",
     "name": "stderr",
     "text": [
      "C:\\Users\\juanm\\AppData\\Local\\Programs\\Python\\Python37\\lib\\importlib\\_bootstrap.py:219: RuntimeWarning: numpy.ufunc size changed, may indicate binary incompatibility. Expected 192 from C header, got 216 from PyObject\n",
      "  return f(*args, **kwds)\n",
      "C:\\Users\\juanm\\AppData\\Local\\Programs\\Python\\Python37\\lib\\importlib\\_bootstrap.py:219: RuntimeWarning: numpy.ufunc size changed, may indicate binary incompatibility. Expected 192 from C header, got 216 from PyObject\n",
      "  return f(*args, **kwds)\n"
     ]
    }
   ],
   "metadata": {}
  },
  {
   "cell_type": "code",
   "execution_count": 20,
   "source": [
    "svc.fit(X_train, y_train)\r\n",
    "knc.fit(X_train, y_train)\r\n",
    "mnb.fit(X_train, y_train)\r\n",
    "dtc.fit(X_train, y_train)\r\n",
    "lrc.fit(X_train, y_train)\r\n",
    "rfc.fit(X_train, y_train)\r\n",
    "abc.fit(X_train, y_train)\r\n",
    "bc.fit(X_train, y_train)\r\n",
    "etc.fit(X_train, y_train)\r\n",
    "\r\n",
    "log_model.fit(X_train, y_train)\r\n",
    "svm_model.fit(X_train, y_train)\r\n",
    "#nn_model.fit(X_train, y_train)"
   ],
   "outputs": [
    {
     "output_type": "stream",
     "name": "stderr",
     "text": [
      "[Parallel(n_jobs=1)]: Using backend SequentialBackend with 1 concurrent workers.\n",
      "[Parallel(n_jobs=1)]: Done   1 out of   1 | elapsed:    0.0s finished\n"
     ]
    },
    {
     "output_type": "stream",
     "name": "stdout",
     "text": [
      "[LibSVM]"
     ]
    },
    {
     "output_type": "execute_result",
     "data": {
      "text/plain": [
       "SVC(verbose=1)"
      ]
     },
     "metadata": {},
     "execution_count": 20
    }
   ],
   "metadata": {}
  },
  {
   "cell_type": "code",
   "execution_count": 21,
   "source": [
    "print('svc', svc.score(X_test, y_test))\r\n",
    "print('knc', knc.score(X_test, y_test))\r\n",
    "print('mnb', mnb.score(X_test, y_test))\r\n",
    "print('dtc', dtc.score(X_test, y_test))\r\n",
    "print('lrc', lrc.score(X_test, y_test))\r\n",
    "print('abc', abc.score(X_test, y_test))\r\n",
    "print('bc', bc.score(X_test, y_test))\r\n",
    "print('etc', etc.score(X_test, y_test))\r\n",
    "\r\n",
    "print('log_model', log_model.score(X_test, y_test))\r\n",
    "print('svm_model', svm_model.score(X_test, y_test))"
   ],
   "outputs": [
    {
     "output_type": "stream",
     "name": "stdout",
     "text": [
      "svc 0.8066766317887394\n",
      "knc 0.8759342301943199\n",
      "mnb 0.8609865470852018\n",
      "dtc 0.8684603886397608\n",
      "lrc 0.861484803188839\n",
      "abc 0.9048330842052815\n",
      "bc 0.9068261086198306\n",
      "etc 0.9028400597907325\n",
      "log_model 0.8609865470852018\n",
      "svm_model 0.8609865470852018\n"
     ]
    }
   ],
   "metadata": {}
  },
  {
   "cell_type": "code",
   "execution_count": 22,
   "source": [
    "from sklearn.metrics import f1_score\r\n",
    "\r\n",
    "print('svc', f1_score(svc.predict(X_test), y_test))\r\n",
    "print('knc', f1_score(knc.predict(X_test), y_test))\r\n",
    "print('mnb', f1_score(mnb.predict(X_test), y_test))\r\n",
    "print('dtc', f1_score(dtc.predict(X_test), y_test))\r\n",
    "print('lrc', f1_score(lrc.predict(X_test), y_test))\r\n",
    "print('abc', f1_score(abc.predict(X_test), y_test))\r\n",
    "print('bc', f1_score(bc.predict(X_test), y_test))\r\n",
    "print('etc', f1_score(etc.predict(X_test), y_test))\r\n",
    "\r\n",
    "print('log_model', f1_score(log_model.predict(X_test), y_test))\r\n",
    "print('svm_model', f1_score(svm_model.predict(X_test), y_test))"
   ],
   "outputs": [
    {
     "output_type": "stream",
     "name": "stdout",
     "text": [
      "svc 0.8897727272727274\n",
      "knc 0.9323920716806952\n",
      "mnb 0.9253012048192771\n",
      "dtc 0.9230769230769231\n",
      "lrc 0.9255490091055167\n",
      "abc 0.9467818333797716\n",
      "bc 0.9471900593052811\n",
      "etc 0.945240101095198\n",
      "log_model 0.9253012048192771\n",
      "svm_model 0.9253012048192771\n"
     ]
    }
   ],
   "metadata": {}
  },
  {
   "cell_type": "code",
   "execution_count": 61,
   "source": [
    "from sklearn.model_selection import GridSearchCV\r\n",
    "\r\n",
    "search_space = {\r\n",
    "      \"base_estimator\": [None,'ExtraTreesClassifier'],\r\n",
    "      \"n_estimators\":[10, 25, 50],\r\n",
    "      \"bootstrap\":[True, False],\r\n",
    "      \"bootstrap_features\": [True, False],\r\n",
    "      \"random_state\":[111]\r\n",
    "      }"
   ],
   "outputs": [],
   "metadata": {}
  },
  {
   "cell_type": "code",
   "execution_count": 62,
   "source": [
    "grid = GridSearchCV(estimator=BaggingClassifier(), \r\n",
    "                    param_grid=search_space,\r\n",
    "                    cv=3,\r\n",
    "                    scoring='f1_macro',  # Accuracy\r\n",
    "                    return_train_score=True,\r\n",
    "                    n_jobs=-1,  # AUC == ROC\r\n",
    "                    verbose=10) "
   ],
   "outputs": [],
   "metadata": {}
  },
  {
   "cell_type": "code",
   "execution_count": 63,
   "source": [
    "best_model = grid.fit(X_train,y_train)"
   ],
   "outputs": [
    {
     "output_type": "stream",
     "name": "stdout",
     "text": [
      "Fitting 3 folds for each of 24 candidates, totalling 72 fits\n"
     ]
    },
    {
     "output_type": "stream",
     "name": "stderr",
     "text": [
      "[Parallel(n_jobs=-1)]: Using backend LokyBackend with 8 concurrent workers.\n",
      "[Parallel(n_jobs=-1)]: Batch computation too fast (0.1925s.) Setting batch_size=2.\n",
      "[Parallel(n_jobs=-1)]: Done   2 tasks      | elapsed:    0.1s\n",
      "[Parallel(n_jobs=-1)]: Done   9 tasks      | elapsed:    0.6s\n",
      "[Parallel(n_jobs=-1)]: Done  17 tasks      | elapsed:    1.5s\n",
      "[Parallel(n_jobs=-1)]: Done  34 tasks      | elapsed:    2.0s\n",
      "[Parallel(n_jobs=-1)]: Done  57 out of  72 | elapsed:    2.1s remaining:    0.5s\n",
      "[Parallel(n_jobs=-1)]: Done  72 out of  72 | elapsed:    3.8s finished\n"
     ]
    }
   ],
   "metadata": {}
  },
  {
   "cell_type": "code",
   "execution_count": 64,
   "source": [
    "print(best_model.best_params_)"
   ],
   "outputs": [
    {
     "output_type": "stream",
     "name": "stdout",
     "text": [
      "{'base_estimator': None, 'bootstrap': True, 'bootstrap_features': False, 'n_estimators': 25, 'random_state': 111}\n"
     ]
    }
   ],
   "metadata": {}
  },
  {
   "cell_type": "code",
   "execution_count": 66,
   "source": [
    "bc = BaggingClassifier(n_estimators=25, random_state=111)\r\n",
    "\r\n",
    "bc.fit(X_train, y_train)\r\n",
    "\r\n",
    "print('etc', f1_score(bc.predict(X_test), y_test))"
   ],
   "outputs": [
    {
     "output_type": "stream",
     "name": "stdout",
     "text": [
      "etc 0.9524345623416831\n"
     ]
    }
   ],
   "metadata": {}
  },
  {
   "cell_type": "code",
   "execution_count": 65,
   "source": [
    "etc = ExtraTreesClassifier(class_weight={0: 2, 1: 1}, criterion='entropy', max_features='auto', min_samples_split=5, n_estimators=25, random_state=111)\r\n",
    "\r\n",
    "etc.fit(X_train, y_train)\r\n",
    "\r\n",
    "\r\n",
    "print('etc', f1_score(etc.predict(X_test), y_test))\r\n",
    "\r\n"
   ],
   "outputs": [
    {
     "output_type": "stream",
     "name": "stdout",
     "text": [
      "etc 0.9505061867266591\n"
     ]
    }
   ],
   "metadata": {}
  }
 ],
 "metadata": {
  "interpreter": {
   "hash": "b07df32797ebab3fa70d4a9f70db79d16446676c9594683b5222a41098e20e60"
  },
  "kernelspec": {
   "name": "python3",
   "display_name": "Python 3.7.9 64-bit"
  },
  "language_info": {
   "codemirror_mode": {
    "name": "ipython",
    "version": 3
   },
   "file_extension": ".py",
   "mimetype": "text/x-python",
   "name": "python",
   "nbconvert_exporter": "python",
   "pygments_lexer": "ipython3",
   "version": "3.7.9"
  },
  "orig_nbformat": 4
 },
 "nbformat": 4,
 "nbformat_minor": 2
}