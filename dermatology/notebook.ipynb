{
 "cells": [
  {
   "cell_type": "code",
   "execution_count": 2,
   "source": [
    "import pandas as pd\r\n",
    "import seaborn as sns\r\n",
    "import matplotlib.pyplot as plt\r\n",
    "import numpy as np"
   ],
   "outputs": [],
   "metadata": {}
  },
  {
   "cell_type": "code",
   "execution_count": 3,
   "source": [
    "cols = ['erythema', 'scaling', 'borders', 'itching', 'koebner', 'polygonal_p', 'follicular_p', 'mucosal', 'knee', 'scalp', 'melanin', 'eosinophils', 'PNL', 'fibrosis', 'exocytosis', 'acanthosis', 'hyperkeratosis', 'parakeratosis', 'clubbing', 'elongation', 'thinning', 'spongiform', 'munro', 'focal', 'disappearance', 'vacuolisation',  'spongiosis', 'saw_tooth', 'follicular_h', 'perifollicular',  'inflammatory', 'band_like', 'age','y']\r\n",
    "df = pd.read_csv('dermatology.data', sep=',', header=0, names=cols)\r\n",
    "df"
   ],
   "outputs": [
    {
     "output_type": "execute_result",
     "data": {
      "text/html": [
       "<div>\n",
       "<style scoped>\n",
       "    .dataframe tbody tr th:only-of-type {\n",
       "        vertical-align: middle;\n",
       "    }\n",
       "\n",
       "    .dataframe tbody tr th {\n",
       "        vertical-align: top;\n",
       "    }\n",
       "\n",
       "    .dataframe thead th {\n",
       "        text-align: right;\n",
       "    }\n",
       "</style>\n",
       "<table border=\"1\" class=\"dataframe\">\n",
       "  <thead>\n",
       "    <tr style=\"text-align: right;\">\n",
       "      <th></th>\n",
       "      <th>erythema</th>\n",
       "      <th>scaling</th>\n",
       "      <th>borders</th>\n",
       "      <th>itching</th>\n",
       "      <th>koebner</th>\n",
       "      <th>polygonal_p</th>\n",
       "      <th>follicular_p</th>\n",
       "      <th>mucosal</th>\n",
       "      <th>knee</th>\n",
       "      <th>scalp</th>\n",
       "      <th>...</th>\n",
       "      <th>disappearance</th>\n",
       "      <th>vacuolisation</th>\n",
       "      <th>spongiosis</th>\n",
       "      <th>saw_tooth</th>\n",
       "      <th>follicular_h</th>\n",
       "      <th>perifollicular</th>\n",
       "      <th>inflammatory</th>\n",
       "      <th>band_like</th>\n",
       "      <th>age</th>\n",
       "      <th>y</th>\n",
       "    </tr>\n",
       "  </thead>\n",
       "  <tbody>\n",
       "    <tr>\n",
       "      <th>3</th>\n",
       "      <td>3</td>\n",
       "      <td>3</td>\n",
       "      <td>2</td>\n",
       "      <td>1</td>\n",
       "      <td>0</td>\n",
       "      <td>0</td>\n",
       "      <td>0</td>\n",
       "      <td>1</td>\n",
       "      <td>1</td>\n",
       "      <td>1</td>\n",
       "      <td>...</td>\n",
       "      <td>0</td>\n",
       "      <td>0</td>\n",
       "      <td>0</td>\n",
       "      <td>0</td>\n",
       "      <td>0</td>\n",
       "      <td>0</td>\n",
       "      <td>1</td>\n",
       "      <td>0</td>\n",
       "      <td>8</td>\n",
       "      <td>1</td>\n",
       "    </tr>\n",
       "    <tr>\n",
       "      <th>2</th>\n",
       "      <td>1</td>\n",
       "      <td>2</td>\n",
       "      <td>3</td>\n",
       "      <td>1</td>\n",
       "      <td>3</td>\n",
       "      <td>0</td>\n",
       "      <td>3</td>\n",
       "      <td>0</td>\n",
       "      <td>0</td>\n",
       "      <td>0</td>\n",
       "      <td>...</td>\n",
       "      <td>0</td>\n",
       "      <td>2</td>\n",
       "      <td>3</td>\n",
       "      <td>2</td>\n",
       "      <td>0</td>\n",
       "      <td>0</td>\n",
       "      <td>2</td>\n",
       "      <td>3</td>\n",
       "      <td>26</td>\n",
       "      <td>3</td>\n",
       "    </tr>\n",
       "    <tr>\n",
       "      <th>2</th>\n",
       "      <td>2</td>\n",
       "      <td>2</td>\n",
       "      <td>0</td>\n",
       "      <td>0</td>\n",
       "      <td>0</td>\n",
       "      <td>0</td>\n",
       "      <td>0</td>\n",
       "      <td>3</td>\n",
       "      <td>2</td>\n",
       "      <td>0</td>\n",
       "      <td>...</td>\n",
       "      <td>3</td>\n",
       "      <td>0</td>\n",
       "      <td>0</td>\n",
       "      <td>0</td>\n",
       "      <td>0</td>\n",
       "      <td>0</td>\n",
       "      <td>3</td>\n",
       "      <td>0</td>\n",
       "      <td>40</td>\n",
       "      <td>1</td>\n",
       "    </tr>\n",
       "    <tr>\n",
       "      <th>2</th>\n",
       "      <td>3</td>\n",
       "      <td>2</td>\n",
       "      <td>2</td>\n",
       "      <td>2</td>\n",
       "      <td>2</td>\n",
       "      <td>0</td>\n",
       "      <td>2</td>\n",
       "      <td>0</td>\n",
       "      <td>0</td>\n",
       "      <td>0</td>\n",
       "      <td>...</td>\n",
       "      <td>2</td>\n",
       "      <td>3</td>\n",
       "      <td>2</td>\n",
       "      <td>3</td>\n",
       "      <td>0</td>\n",
       "      <td>0</td>\n",
       "      <td>2</td>\n",
       "      <td>3</td>\n",
       "      <td>45</td>\n",
       "      <td>3</td>\n",
       "    </tr>\n",
       "    <tr>\n",
       "      <th>2</th>\n",
       "      <td>3</td>\n",
       "      <td>2</td>\n",
       "      <td>0</td>\n",
       "      <td>0</td>\n",
       "      <td>0</td>\n",
       "      <td>0</td>\n",
       "      <td>0</td>\n",
       "      <td>0</td>\n",
       "      <td>0</td>\n",
       "      <td>0</td>\n",
       "      <td>...</td>\n",
       "      <td>0</td>\n",
       "      <td>0</td>\n",
       "      <td>2</td>\n",
       "      <td>0</td>\n",
       "      <td>0</td>\n",
       "      <td>0</td>\n",
       "      <td>1</td>\n",
       "      <td>0</td>\n",
       "      <td>41</td>\n",
       "      <td>2</td>\n",
       "    </tr>\n",
       "    <tr>\n",
       "      <th>...</th>\n",
       "      <td>...</td>\n",
       "      <td>...</td>\n",
       "      <td>...</td>\n",
       "      <td>...</td>\n",
       "      <td>...</td>\n",
       "      <td>...</td>\n",
       "      <td>...</td>\n",
       "      <td>...</td>\n",
       "      <td>...</td>\n",
       "      <td>...</td>\n",
       "      <td>...</td>\n",
       "      <td>...</td>\n",
       "      <td>...</td>\n",
       "      <td>...</td>\n",
       "      <td>...</td>\n",
       "      <td>...</td>\n",
       "      <td>...</td>\n",
       "      <td>...</td>\n",
       "      <td>...</td>\n",
       "      <td>...</td>\n",
       "      <td>...</td>\n",
       "    </tr>\n",
       "    <tr>\n",
       "      <th>2</th>\n",
       "      <td>1</td>\n",
       "      <td>1</td>\n",
       "      <td>0</td>\n",
       "      <td>1</td>\n",
       "      <td>0</td>\n",
       "      <td>0</td>\n",
       "      <td>0</td>\n",
       "      <td>0</td>\n",
       "      <td>0</td>\n",
       "      <td>0</td>\n",
       "      <td>...</td>\n",
       "      <td>0</td>\n",
       "      <td>0</td>\n",
       "      <td>1</td>\n",
       "      <td>0</td>\n",
       "      <td>0</td>\n",
       "      <td>0</td>\n",
       "      <td>2</td>\n",
       "      <td>0</td>\n",
       "      <td>25</td>\n",
       "      <td>4</td>\n",
       "    </tr>\n",
       "    <tr>\n",
       "      <th>3</th>\n",
       "      <td>2</td>\n",
       "      <td>1</td>\n",
       "      <td>0</td>\n",
       "      <td>1</td>\n",
       "      <td>0</td>\n",
       "      <td>0</td>\n",
       "      <td>0</td>\n",
       "      <td>0</td>\n",
       "      <td>0</td>\n",
       "      <td>0</td>\n",
       "      <td>...</td>\n",
       "      <td>1</td>\n",
       "      <td>0</td>\n",
       "      <td>1</td>\n",
       "      <td>0</td>\n",
       "      <td>0</td>\n",
       "      <td>0</td>\n",
       "      <td>2</td>\n",
       "      <td>0</td>\n",
       "      <td>36</td>\n",
       "      <td>4</td>\n",
       "    </tr>\n",
       "    <tr>\n",
       "      <th>3</th>\n",
       "      <td>2</td>\n",
       "      <td>2</td>\n",
       "      <td>2</td>\n",
       "      <td>3</td>\n",
       "      <td>2</td>\n",
       "      <td>0</td>\n",
       "      <td>2</td>\n",
       "      <td>0</td>\n",
       "      <td>0</td>\n",
       "      <td>0</td>\n",
       "      <td>...</td>\n",
       "      <td>0</td>\n",
       "      <td>3</td>\n",
       "      <td>0</td>\n",
       "      <td>3</td>\n",
       "      <td>0</td>\n",
       "      <td>0</td>\n",
       "      <td>2</td>\n",
       "      <td>3</td>\n",
       "      <td>28</td>\n",
       "      <td>3</td>\n",
       "    </tr>\n",
       "    <tr>\n",
       "      <th>2</th>\n",
       "      <td>1</td>\n",
       "      <td>3</td>\n",
       "      <td>1</td>\n",
       "      <td>2</td>\n",
       "      <td>3</td>\n",
       "      <td>0</td>\n",
       "      <td>2</td>\n",
       "      <td>0</td>\n",
       "      <td>0</td>\n",
       "      <td>0</td>\n",
       "      <td>...</td>\n",
       "      <td>0</td>\n",
       "      <td>2</td>\n",
       "      <td>0</td>\n",
       "      <td>1</td>\n",
       "      <td>0</td>\n",
       "      <td>0</td>\n",
       "      <td>2</td>\n",
       "      <td>3</td>\n",
       "      <td>50</td>\n",
       "      <td>3</td>\n",
       "    </tr>\n",
       "    <tr>\n",
       "      <th>3</th>\n",
       "      <td>2</td>\n",
       "      <td>2</td>\n",
       "      <td>0</td>\n",
       "      <td>0</td>\n",
       "      <td>0</td>\n",
       "      <td>0</td>\n",
       "      <td>0</td>\n",
       "      <td>3</td>\n",
       "      <td>3</td>\n",
       "      <td>0</td>\n",
       "      <td>...</td>\n",
       "      <td>2</td>\n",
       "      <td>0</td>\n",
       "      <td>0</td>\n",
       "      <td>0</td>\n",
       "      <td>0</td>\n",
       "      <td>0</td>\n",
       "      <td>3</td>\n",
       "      <td>0</td>\n",
       "      <td>35</td>\n",
       "      <td>1</td>\n",
       "    </tr>\n",
       "  </tbody>\n",
       "</table>\n",
       "<p>365 rows × 34 columns</p>\n",
       "</div>"
      ],
      "text/plain": [
       "    erythema  scaling  borders  itching  koebner  polygonal_p  follicular_p  \\\n",
       "3          3        3        2        1        0            0             0   \n",
       "2          1        2        3        1        3            0             3   \n",
       "2          2        2        0        0        0            0             0   \n",
       "2          3        2        2        2        2            0             2   \n",
       "2          3        2        0        0        0            0             0   \n",
       "..       ...      ...      ...      ...      ...          ...           ...   \n",
       "2          1        1        0        1        0            0             0   \n",
       "3          2        1        0        1        0            0             0   \n",
       "3          2        2        2        3        2            0             2   \n",
       "2          1        3        1        2        3            0             2   \n",
       "3          2        2        0        0        0            0             0   \n",
       "\n",
       "    mucosal  knee  scalp  ...  disappearance  vacuolisation  spongiosis  \\\n",
       "3         1     1      1  ...              0              0           0   \n",
       "2         0     0      0  ...              0              2           3   \n",
       "2         3     2      0  ...              3              0           0   \n",
       "2         0     0      0  ...              2              3           2   \n",
       "2         0     0      0  ...              0              0           2   \n",
       "..      ...   ...    ...  ...            ...            ...         ...   \n",
       "2         0     0      0  ...              0              0           1   \n",
       "3         0     0      0  ...              1              0           1   \n",
       "3         0     0      0  ...              0              3           0   \n",
       "2         0     0      0  ...              0              2           0   \n",
       "3         3     3      0  ...              2              0           0   \n",
       "\n",
       "    saw_tooth  follicular_h  perifollicular  inflammatory  band_like  age  y  \n",
       "3           0             0               0             1          0    8  1  \n",
       "2           2             0               0             2          3   26  3  \n",
       "2           0             0               0             3          0   40  1  \n",
       "2           3             0               0             2          3   45  3  \n",
       "2           0             0               0             1          0   41  2  \n",
       "..        ...           ...             ...           ...        ...  ... ..  \n",
       "2           0             0               0             2          0   25  4  \n",
       "3           0             0               0             2          0   36  4  \n",
       "3           3             0               0             2          3   28  3  \n",
       "2           1             0               0             2          3   50  3  \n",
       "3           0             0               0             3          0   35  1  \n",
       "\n",
       "[365 rows x 34 columns]"
      ]
     },
     "metadata": {},
     "execution_count": 3
    }
   ],
   "metadata": {}
  },
  {
   "cell_type": "code",
   "execution_count": 4,
   "source": [
    "df.columns"
   ],
   "outputs": [
    {
     "output_type": "execute_result",
     "data": {
      "text/plain": [
       "Index(['erythema', 'scaling', 'borders', 'itching', 'koebner', 'polygonal_p',\n",
       "       'follicular_p', 'mucosal', 'knee', 'scalp', 'melanin', 'eosinophils',\n",
       "       'PNL', 'fibrosis', 'exocytosis', 'acanthosis', 'hyperkeratosis',\n",
       "       'parakeratosis', 'clubbing', 'elongation', 'thinning', 'spongiform',\n",
       "       'munro', 'focal', 'disappearance', 'vacuolisation', 'spongiosis',\n",
       "       'saw_tooth', 'follicular_h', 'perifollicular', 'inflammatory',\n",
       "       'band_like', 'age', 'y'],\n",
       "      dtype='object')"
      ]
     },
     "metadata": {},
     "execution_count": 4
    }
   ],
   "metadata": {}
  },
  {
   "cell_type": "code",
   "execution_count": 5,
   "source": [
    "data = df.drop(columns=['age', 'y'])"
   ],
   "outputs": [],
   "metadata": {}
  },
  {
   "cell_type": "code",
   "execution_count": 6,
   "source": [
    "from sklearn.decomposition import PCA\r\n",
    "\r\n",
    "pca = PCA(3)\r\n",
    "\r\n",
    "pca.fit(data)\r\n",
    "\r\n",
    "new_data = pd.DataFrame(pca.transform(data), columns=['pc1', 'pc2', 'pc3'])"
   ],
   "outputs": [],
   "metadata": {}
  },
  {
   "cell_type": "code",
   "execution_count": 7,
   "source": [
    "new_data['y'] = df['y'].tolist()\r\n",
    "\r\n",
    "\r\n",
    "sns.scatterplot(data=new_data, x='pc1', y='pc2', hue='y')"
   ],
   "outputs": [
    {
     "output_type": "execute_result",
     "data": {
      "text/plain": [
       "<AxesSubplot:xlabel='pc1', ylabel='pc2'>"
      ]
     },
     "metadata": {},
     "execution_count": 7
    },
    {
     "output_type": "display_data",
     "data": {
      "image/png": "[encoded data removed]",
      "text/plain": [
       "<Figure size 432x288 with 1 Axes>"
      ]
     },
     "metadata": {
      "needs_background": "light"
     }
    }
   ],
   "metadata": {}
  },
  {
   "cell_type": "code",
   "execution_count": 10,
   "source": [
    "import plotly.express as px\r\n",
    "fig = px.scatter_3d(new_data, x='pc1', y='pc2', z='pc3', color='y')\r\n",
    "fig.update_traces(marker=dict(size=5,\r\n",
    "                              line=dict(width=2,\r\n",
    "                                        color='DarkSlateGrey')),\r\n",
    "                  selector=dict(mode='markers'))\r\n",
    "fig.show()\r\n",
    "fig.write_image(\"fig1.png\")\r\n",
    "fig.write_image(\"fig1.pdf\")"
   ],
   "outputs": [
    {
     "output_type": "display_data",
     "data": {
      "application/vnd.plotly.v1+json": {
       "config": {
        "plotlyServerURL": "https://plot.ly"
       },
       "data": [
        {
         "hovertemplate": "pc1=%{x}<br>pc2=%{y}<br>pc3=%{z}<br>y=%{marker.color}<extra></extra>",
         "legendgroup": "",
         "marker": {
          "color": [
           1,
           3,
           1,
           3,
           2,
           5,
           3,
           4,
           4,
           1,
           2,
           2,
           1,
           3,
           4,
           2,
           1,
           3,
           5,
           6,
           2,
           5,
           3,
           5,
           1,
           6,
           5,
           2,
           3,
           1,
           2,
           1,
           1,
           4,
           2,
           3,
           2,
           3,
           1,
           2,
           4,
           1,
           2,
           5,
           3,
           4,
           6,
           2,
           3,
           3,
           4,
           1,
           1,
           5,
           1,
           2,
           3,
           4,
           2,
           6,
           1,
           5,
           1,
           2,
           3,
           1,
           4,
           5,
           1,
           2,
           6,
           3,
           5,
           4,
           2,
           2,
           1,
           3,
           5,
           1,
           2,
           2,
           2,
           5,
           1,
           1,
           3,
           1,
           4,
           2,
           2,
           5,
           1,
           3,
           4,
           2,
           5,
           1,
           6,
           2,
           5,
           1,
           2,
           2,
           1,
           4,
           1,
           3,
           1,
           1,
           3,
           5,
           3,
           3,
           5,
           2,
           3,
           4,
           1,
           2,
           5,
           6,
           1,
           1,
           2,
           6,
           3,
           5,
           4,
           1,
           1,
           3,
           5,
           5,
           1,
           4,
           2,
           3,
           1,
           2,
           1,
           1,
           3,
           3,
           3,
           2,
           5,
           4,
           2,
           2,
           1,
           1,
           1,
           5,
           3,
           2,
           3,
           2,
           2,
           4,
           2,
           3,
           6,
           2,
           1,
           1,
           3,
           4,
           3,
           3,
           1,
           1,
           1,
           3,
           1,
           1,
           2,
           3,
           3,
           1,
           1,
           1,
           1,
           6,
           2,
           2,
           2,
           2,
           1,
           3,
           3,
           3,
           1,
           1,
           2,
           3,
           2,
           2,
           2,
           5,
           5,
           5,
           5,
           5,
           1,
           1,
           1,
           1,
           1,
           1,
           1,
           3,
           3,
           3,
           3,
           3,
           3,
           4,
           4,
           4,
           4,
           5,
           5,
           5,
           5,
           5,
           5,
           5,
           2,
           2,
           2,
           2,
           1,
           1,
           1,
           1,
           1,
           1,
           6,
           6,
           1,
           1,
           1,
           1,
           1,
           1,
           1,
           1,
           3,
           3,
           3,
           3,
           3,
           3,
           3,
           4,
           4,
           4,
           4,
           4,
           4,
           5,
           5,
           5,
           5,
           6,
           6,
           6,
           4,
           4,
           4,
           1,
           1,
           1,
           1,
           1,
           2,
           2,
           4,
           4,
           4,
           1,
           1,
           2,
           2,
           2,
           3,
           3,
           3,
           3,
           1,
           1,
           1,
           1,
           5,
           5,
           5,
           5,
           5,
           3,
           3,
           3,
           4,
           1,
           1,
           4,
           4,
           4,
           1,
           1,
           1,
           3,
           3,
           3,
           3,
           3,
           1,
           1,
           1,
           1,
           4,
           4,
           1,
           1,
           4,
           3,
           3,
           4,
           1,
           1,
           4,
           4,
           5,
           5,
           1,
           1,
           5,
           5,
           3,
           1,
           5,
           5,
           6,
           6,
           4,
           4,
           6,
           6,
           6,
           1,
           1,
           1,
           5,
           5,
           1,
           1,
           1,
           1,
           2,
           2,
           4,
           4,
           3,
           3,
           1
          ],
          "coloraxis": "coloraxis",
          "line": {
           "color": "DarkSlateGrey",
           "width": 2
          },
          "size": 5,
          "symbol": "circle"
         },
         "mode": "markers",
         "name": "",
         "scene": "scene",
         "showlegend": false,
         "type": "scatter3d",
         "x": [
          -2.609645055096066,
          4.896427582744721,
          -4.39367603606941,
          4.546058451356774,
          0.05381058740679152,
          -0.2495604061374936,
          4.848946294371548,
          0.6992041582292817,
          0.7444933168160545,
          -3.4985062315327973,
          0.8942683289686812,
          0.5561526912994993,
          -3.249922697008761,
          4.760648576096826,
          0.7621083935592602,
          0.36869288278313267,
          -5.790160292671048,
          5.071235005832115,
          -0.8740362742615682,
          -1.5138506250377772,
          -0.890983694537091,
          -0.6957124828837512,
          4.70308694005053,
          -0.022023467928143046,
          -3.3112464563019572,
          -0.25438838551522736,
          -0.4259729759546278,
          0.4782038655702861,
          5.394327486491195,
          -3.4751602229135177,
          0.06380692687054212,
          -4.40752993903798,
          -2.7191696437900448,
          0.2840587253335146,
          -0.047192537173470696,
          4.144147623654476,
          0.659439666701638,
          3.782947091997487,
          -3.6376129604947547,
          0.5141411456194043,
          0.16903895905877447,
          -1.9890407674626285,
          -0.05415970646280873,
          0.09346376942010315,
          4.266940565583313,
          1.0934042113052924,
          -0.9283570382096762,
          0.9820058511979134,
          3.526592651707731,
          4.108302749121562,
          0.012522605598029651,
          -3.3103995042813095,
          -2.815281227586346,
          0.044648682745403324,
          -2.374495337673968,
          1.1946953331999492,
          3.7571606990824784,
          -0.05220829961800121,
          1.42705898108941,
          -0.9604917202553103,
          -3.2002828058840844,
          -0.6881965978549541,
          -3.4985062315327973,
          1.049381747218869,
          3.634975049450098,
          -4.9665683291421665,
          0.7621083935592602,
          -0.4738863749755643,
          -2.5084282447253723,
          0.3149692356959859,
          -0.8036823223671271,
          3.803592595772652,
          -0.3855452815153625,
          0.9518582734881977,
          0.46703860595866403,
          -0.04632758311584243,
          -1.4171255697503928,
          4.823651259890508,
          0.08926222466891431,
          -1.5028083485446935,
          0.14066013771904218,
          1.0022301250881307,
          0.40938523608239213,
          0.28559449152893973,
          -1.307400176504255,
          -1.7823991096981464,
          4.361290238971079,
          -4.296285899471118,
          0.3143689450784244,
          0.8235306840647184,
          0.6119638314055992,
          -0.12351966182610048,
          -3.695774957461393,
          4.955326106735614,
          1.1411755022458434,
          1.1458780395030694,
          -1.2056776497848334,
          -2.213166067144579,
          -0.7300398201038676,
          -0.1957634621975672,
          -0.921194586114353,
          -2.2764174534618062,
          0.2896607933335072,
          0.18992392211089404,
          -2.6116517271968833,
          0.8679261040172013,
          -2.429288229816505,
          4.910980962960439,
          -3.243953982515176,
          -3.605159479037959,
          5.978213239885557,
          -0.878608231126966,
          5.082913253746188,
          4.533773863544167,
          -0.6019047714008052,
          0.5770421228446395,
          5.056363128537599,
          1.392449347367236,
          -2.464424568093217,
          -0.0637792841965622,
          -0.9181219722442555,
          -0.8856664720404902,
          -2.666484477113856,
          -3.5127639956253014,
          0.35256623574487017,
          -0.6077606206816906,
          5.78100547765743,
          -0.888381256024648,
          0.9987234688666109,
          -3.8604504124501937,
          -1.6715055504456364,
          5.79962322071214,
          -0.8839991302289296,
          -0.6143583200975692,
          -3.5769703064403573,
          1.0641107400569803,
          -0.16797136192768208,
          5.393313631814936,
          -1.5639634977711239,
          0.6089438750905316,
          -1.7614669684452369,
          -3.00546081927513,
          2.8903742862146014,
          5.837742675833179,
          4.764425583951672,
          1.3508282285730602,
          -0.49344059909615245,
          0.499596466546489,
          1.1379109060782542,
          1.1301414519005286,
          -2.0759299530287225,
          -1.2306608519679043,
          -2.1044465313673917,
          -0.5958561801604909,
          4.179141433255714,
          1.1211436464074005,
          5.0604234097185214,
          0.9198982101508943,
          0.6552432890715283,
          0.6820373797669517,
          1.0665596303131515,
          3.463862368400402,
          -0.19650178530141693,
          0.6321234898944175,
          -2.9605925678263607,
          -4.1909927507529785,
          4.109466130868191,
          0.5028011708354304,
          5.449092304749714,
          4.392604599576223,
          -4.014374372262788,
          -3.300415402284468,
          -3.3870000940192733,
          4.476559683127853,
          -4.42588537238889,
          -4.242359189550908,
          1.1367994309101408,
          4.89828448431965,
          5.635350010476057,
          -2.8277596651014196,
          -1.8112640355205267,
          -2.5004035891199234,
          -2.765293347172062,
          -0.2305175407145285,
          1.243545761540234,
          0.8765998987868702,
          0.9101884482811293,
          0.8901273018535547,
          -3.1149611010376206,
          4.127604484191048,
          4.628301327807732,
          4.124978928091089,
          -4.4083180989413995,
          -5.112662294590914,
          0.778775153683707,
          4.349304768585289,
          -0.12283992217849869,
          0.23315133743737043,
          0.2582717849527926,
          0.001247418258503252,
          -0.24367011331700952,
          -0.32143987460364554,
          0.006551627580242419,
          0.4833401819832461,
          -3.665148756350674,
          -3.8973040977894664,
          -3.767813621655625,
          -4.376162721259149,
          -4.532351005173165,
          -4.338139737711663,
          -4.537984072075134,
          4.637852236425833,
          5.305453056956886,
          4.557716347618166,
          4.832521356523338,
          5.270777751467264,
          4.801946648573371,
          0.9743060234227334,
          1.1573146447133393,
          0.8135059962627592,
          1.397093213666814,
          -0.2137153689431033,
          -0.5077878633054564,
          -0.5051402852385593,
          -0.36939636337654186,
          -0.9866003591698933,
          -0.7709662183182955,
          -1.1521221504028982,
          0.7877869613044278,
          0.460326335581747,
          0.06707971648057806,
          -0.06975130490096024,
          -2.889412071328327,
          -2.169215267970076,
          -1.830193478702582,
          -2.3614897109490416,
          -2.0677181586348743,
          -1.501442733208413,
          -0.684225659430138,
          -0.6147656757482821,
          -4.124006716485427,
          -3.176094165098863,
          -3.616033131758512,
          -4.507753173822059,
          -4.98817240869652,
          -4.381404703073965,
          -3.900475389184065,
          -2.70673860421284,
          5.315988528321607,
          4.929475503309964,
          5.1412397736390325,
          5.011259375331343,
          5.02334979608876,
          4.212330644546066,
          3.2751476079861925,
          0.47286632484011376,
          0.5827745207403191,
          0.12744603722943587,
          0.5002473906259405,
          0.5737699605677764,
          0.21061290426224832,
          -0.8139111058913481,
          -0.1772552590597958,
          -0.6501676183632412,
          0.010415103598984015,
          -0.1847759268035998,
          0.09092207183704876,
          0.29647500555006656,
          0.6696934565346341,
          0.7458330945043233,
          0.7979765346302715,
          -4.104357754045232,
          -4.105724467117782,
          -4.470101545764437,
          -3.949845255069477,
          -3.696718444975778,
          0.6213762113622971,
          0.7459879812252721,
          0.6052459877257633,
          0.5297952033648913,
          0.4255910941139945,
          -3.766310650626769,
          -3.4939546573743265,
          0.6923636955969299,
          0.5698277781427884,
          1.1902745174596807,
          4.1614333761040285,
          5.575689134862221,
          4.674152278432928,
          4.785742021894798,
          -3.6394462679969672,
          -4.293667873194224,
          -4.194314027590426,
          -3.358771952378752,
          -0.34430896489142343,
          -0.6685393869723739,
          -0.9908352056490233,
          0.22034585451748273,
          -0.7981426510977406,
          4.023993511482068,
          4.804435354554863,
          3.9573636776846546,
          0.6306655642508202,
          -4.046739004820199,
          -3.32016029407948,
          1.1010558561567845,
          0.8321900001087831,
          1.0478864330694964,
          -3.5433216076403617,
          -3.2057256218703456,
          -3.4946228263131243,
          5.381456876073507,
          4.679594261994123,
          5.172176026287552,
          5.632555579521796,
          4.944404541038357,
          -4.273568666940755,
          -3.9896922929684773,
          -4.445168571559637,
          -3.5128973777757673,
          0.5723815583522783,
          0.7339569958546938,
          -3.481358885756569,
          -3.822007446618398,
          0.7709196412753722,
          5.044241054847485,
          4.786052132610371,
          0.6668320607024342,
          -3.4722867618192956,
          -3.841400871940556,
          0.5365392044686348,
          0.3001473372335534,
          0.31712976590991915,
          -0.13645844963616152,
          -3.9855377539347763,
          -3.6667736731627354,
          -0.10041835298079668,
          -0.09899494355921665,
          5.366035298464522,
          -4.334007887893151,
          -0.6575302871616721,
          0.11410458297166248,
          0.07222881539526818,
          0.2422880858957438,
          0.8720185892086987,
          0.09337085966807573,
          0.146645654515061,
          -0.1951240198252165,
          0.46006994050575706,
          -4.213326141455109,
          -3.6023785852071972,
          -3.677005911859379,
          0.19578869316723801,
          -0.1906063102707292,
          -4.015861525461875,
          -3.903498793011952,
          -3.5109433454639567,
          -3.6274846953858035,
          0.8896811140195702,
          0.7337514025125019,
          0.2130324107639462,
          0.40399925084167104,
          5.659868148639307,
          4.906681304285974,
          -4.700048168747173
         ],
         "y": [
          1.5517827005574971,
          2.2551628814935065,
          2.262505950830803,
          2.6938465205729902,
          -1.8469533553131532,
          -2.0296579090389035,
          2.4899442282849993,
          -2.159503453194373,
          -2.175247977594447,
          1.940133282760708,
          -2.7826801729754678,
          -2.2000369058301454,
          1.3964893618052685,
          3.370656873861432,
          -2.1073358944059355,
          -1.7282287791214155,
          3.7083330068098874,
          3.794532162270961,
          -1.3978597712604317,
          -0.8327345886757523,
          -1.3038472332805284,
          -1.3182335475258495,
          3.637134443120461,
          -1.9583263193693474,
          1.2493180313041494,
          -2.190430999402888,
          -0.9138871057650613,
          -1.722983460661701,
          3.707316742962527,
          1.664396038691775,
          -2.0190434205453087,
          3.9316478939530013,
          0.10001918026098491,
          -2.142474600463289,
          -2.0267041164954147,
          2.4067499182599037,
          -2.5669805067569715,
          1.9472763459534574,
          1.4042182786478412,
          -2.930476538330263,
          -2.402555966004384,
          -0.12960142523772897,
          -2.2177267512158467,
          -2.1237250352961596,
          1.6930232743813596,
          -1.3937179970847036,
          -0.7704775916193495,
          -1.7694717718504311,
          1.6263261768633233,
          1.7290434361038511,
          -1.2127990612255575,
          0.6693840840029754,
          1.0333605002341508,
          -2.1929647598610025,
          0.3173642845209027,
          -2.725441487475314,
          1.2910699670116574,
          -2.0809372021390593,
          -3.01242146816708,
          -1.252308132397753,
          0.6474602614215698,
          -1.6807484833367654,
          1.940133282760708,
          -2.587462540201618,
          2.0344618025660433,
          2.9035414732139637,
          -2.1073358944059355,
          -0.7216760681476921,
          0.9933433232719999,
          -2.124527525784516,
          -1.49300522524341,
          0.9992496136673471,
          -1.5356463762262003,
          -2.0871304299741804,
          -2.0502478097005015,
          -1.819121945638159,
          0.5841947224260341,
          0.4053512135436104,
          -1.9284696590279176,
          0.38250326417278047,
          -1.5193014629701775,
          -2.352289220965332,
          -1.8841925504092034,
          -1.734433793868188,
          0.7881310333470675,
          0.40650840647213893,
          2.72597005074221,
          2.473032808711354,
          -2.1424911923207373,
          -2.3651195229513067,
          -2.459400700395082,
          -1.603417936568511,
          3.331017326450082,
          2.6363882391545017,
          -2.348387558583891,
          -2.576764379419123,
          -1.7942319627827772,
          1.1293311374379653,
          -1.7101722023318424,
          -1.902149402716332,
          -1.6795357867281329,
          1.6293983008158694,
          -1.825013540633836,
          -1.5460717367508134,
          1.8830273897205663,
          -2.684752733712643,
          0.3970463715224969,
          3.081341806343996,
          2.4916542052307102,
          2.7531124878839,
          2.8208112497654363,
          -1.604169902763147,
          3.206595024328497,
          2.285367108343982,
          -1.0464444896415415,
          -1.9759434627180439,
          2.0429372404065336,
          -2.535930354171457,
          1.3007514441574923,
          -1.4200558530512217,
          -1.1336658234555972,
          -1.2651439058024574,
          2.648619885594418,
          2.3792218237630287,
          -2.0557386764215217,
          -1.2760605914051135,
          3.596794469912443,
          -2.040626254033701,
          -2.368964254038925,
          2.449114709496557,
          1.010307923218654,
          3.0362294773816023,
          -1.5279312046712825,
          -1.46685154624441,
          1.5424035264327942,
          -2.4815332921467705,
          -1.4212896520866578,
          3.075603888921122,
          0.9996516527231483,
          -1.6972439347195956,
          -0.01318555896817419,
          2.2957645308468697,
          0.29143583637849313,
          3.2484803856428637,
          2.682687689362943,
          -2.7890078466958177,
          -1.5633944841556442,
          -1.64949243425565,
          -2.837302356185502,
          -2.590824650660946,
          0.32287955381016725,
          -0.04923019974362736,
          -0.08222467524551814,
          -1.7183910288336408,
          1.335867994792921,
          -2.7420626814114435,
          2.2552958543053263,
          -2.574439622317091,
          -2.3206937428939924,
          -1.9282737606268474,
          -2.4990115442241168,
          1.4055965282231564,
          -2.360264667115351,
          -2.616812458777666,
          1.5368971945039025,
          2.67219040394,
          2.3584046499526945,
          -1.7808865432248586,
          3.388086077556132,
          1.9712280555610622,
          1.788040745784267,
          0.9802324497231112,
          1.3207314848050917,
          1.9869384761566873,
          2.134969679056878,
          2.3422163781808494,
          -2.600460827187702,
          1.9680599153325071,
          2.6973568383300255,
          0.5514005962062731,
          -0.41753890337734445,
          0.07941807795298761,
          0.5350607348463147,
          -2.219956247644509,
          -3.142267491513759,
          -2.5489539950777433,
          -2.624826141863255,
          -2.8041580161265283,
          0.8793975232702556,
          2.9058823897195314,
          3.216904514260652,
          2.4099739260711126,
          2.256696135567153,
          2.824033004586183,
          -2.3630342733787795,
          3.0033195245028885,
          -1.7701314488814102,
          -2.3622623025971934,
          -2.466379585450043,
          -2.2098304862427147,
          -2.292491743761482,
          -1.8871974968999266,
          -2.6568100843785456,
          -1.872956884810754,
          1.3077265260666318,
          1.5894717101516012,
          1.8771873874425915,
          2.0218119726976074,
          2.304861257377842,
          1.9313300441606036,
          1.9286209106969716,
          2.8324199392912237,
          2.426846190228225,
          2.601488957789891,
          2.5771476278239684,
          3.2678821255585353,
          2.523868678227423,
          -2.5183381882373763,
          -2.832800023945709,
          -2.4353945496508422,
          -2.278756099013394,
          -1.3228626352854302,
          -1.4791963764262945,
          -0.8205216406982202,
          -1.3099451492611498,
          -1.191912485829375,
          -1.2845362122650943,
          -1.1555914725484588,
          -2.5384527077901504,
          -2.2627258729245026,
          -1.4174889984185524,
          -1.6405822307934976,
          1.2744006782577708,
          0.7113491994550589,
          0.2834170098547459,
          1.4598135792993776,
          0.34341378630465935,
          0.3006762154211642,
          -1.1672089820150624,
          -1.8243835058058655,
          2.529451060231148,
          1.6168412897180242,
          2.233949797246324,
          2.3011103702286695,
          3.361450622810366,
          2.2050630115729994,
          1.7371339319229249,
          0.49696893308259515,
          1.8097907726595488,
          2.1463303717808766,
          2.0040387252676783,
          1.8816839887044472,
          1.30064163361906,
          2.0871365998552065,
          1.2350803545512217,
          -2.2153254787075625,
          -2.025574487484518,
          -1.7753661584279565,
          -1.9167891601214018,
          -1.867682109138589,
          -1.5022307190883266,
          -1.4350852926300888,
          -1.5715168346002977,
          -1.7174692623710415,
          -1.914583054603714,
          -2.0847977993155142,
          -2.5081660676741024,
          -2.47415210167423,
          -2.2674054300248856,
          -2.518730314722642,
          -2.3158095763617377,
          2.243262485419304,
          2.794329604152139,
          2.729136867167815,
          2.293813615969855,
          2.1948031638747274,
          -2.031954621181828,
          -2.10988282080106,
          -2.327218782018689,
          -2.152079508583376,
          -2.371164080541168,
          1.5849418090456329,
          2.153627840085636,
          -2.188313120967369,
          -2.2126162415149335,
          -2.4635171828600435,
          2.136927037778249,
          2.4950995447922475,
          2.4482597854276515,
          2.156843144221696,
          1.7782545559219856,
          2.3774195425157285,
          2.872551435951197,
          1.9183529094983292,
          -2.171733112250168,
          -1.3613589076968666,
          -1.2436869412436595,
          -2.2977747874629912,
          -1.316025019915364,
          2.367150882467249,
          2.41886946651365,
          1.9615636028064054,
          -2.020623205486178,
          2.3430737732707216,
          1.5155591910705246,
          -2.8360201862177146,
          -2.0042277719174386,
          -2.6575069404998453,
          1.8075218777817164,
          1.2564904658372187,
          1.6558634911823353,
          3.3479263716837773,
          2.671695704451981,
          2.932158288371743,
          2.795881113648925,
          3.130848995413554,
          2.508683225324245,
          2.4255121297898654,
          2.6661390365416153,
          1.6116659937112134,
          -2.07671362461839,
          -2.304051294841565,
          1.5862445281405013,
          1.9988170097615656,
          -2.510760433615828,
          2.5272235162798578,
          2.9518866554707324,
          -2.819566630915111,
          2.4743158347262226,
          1.4989278014696235,
          -2.288648042766826,
          -1.61067311097108,
          -2.1019260974761766,
          -1.297583532500653,
          1.9350620166184296,
          1.8234036603694548,
          -2.5346030373134054,
          -2.1373350129869837,
          2.5851862069443836,
          2.5277959810090773,
          -1.749456531737956,
          -2.038538822601312,
          -2.109039664671654,
          -2.5950314069005325,
          -2.1443678224448908,
          -1.7812801405818595,
          -2.464323527490282,
          -2.0311503868182372,
          -2.7217953573229217,
          2.5869398589927215,
          2.7952133029104185,
          2.8775514978978163,
          -2.235581272384391,
          -1.9135416820545097,
          3.1386547393214084,
          2.536684055804744,
          1.7003297010001308,
          1.9665371824458564,
          -3.1371969352413953,
          -2.8052529222128593,
          -2.1877215004314077,
          -2.0175367681569196,
          3.1466773996566415,
          2.5529775478247707,
          2.701828729583714
         ],
         "z": [
          -0.17613154252255522,
          -0.048308121202065214,
          -1.6041447140531253,
          -0.5401930343975498,
          -1.9168954074481805,
          3.5415153417137155,
          -0.6545017618490876,
          -1.3889677916517287,
          -1.5937223349878844,
          -0.07137518868236795,
          -0.44720514984302184,
          -1.3224793570210986,
          -0.5131410831136781,
          0.9719387481540275,
          -0.4182087844747112,
          0.44011502334189073,
          -1.6148304641597424,
          0.2367345480959753,
          4.080659234562391,
          0.5188124044612746,
          -1.599405332847321,
          1.5846657166028906,
          1.3080217019811273,
          3.6543262359122832,
          0.045968291884565055,
          -0.28707465589528713,
          2.2052325630284493,
          -0.9608830617086359,
          0.8905194433176521,
          0.2462058770609884,
          0.17002448589060376,
          0.6107326007481676,
          -0.40181121757319566,
          -0.11375411804045964,
          0.3779473702029167,
          0.8302166620651577,
          -0.8636600525156999,
          1.1473294464235142,
          -0.5877683192937055,
          -1.5867077175027413,
          -1.0016137707529729,
          0.3772176583481066,
          -1.1707415920248454,
          3.0634286314187578,
          0.167819935417358,
          0.6336727824659201,
          -0.5062793140621734,
          -0.8934778646690292,
          0.21810061896104482,
          0.6027366427544714,
          -0.19377807144645437,
          -0.09541480246981074,
          0.6261576434074383,
          3.15711541469078,
          0.33005382555113916,
          -0.536917120221096,
          1.199094782991023,
          -0.5493521872052164,
          -0.8112456044507247,
          -0.24186006398308896,
          0.1884577778649751,
          2.370836447147641,
          -0.07137518868236795,
          -0.46792427665666286,
          0.6689567554024132,
          -0.7386272556600647,
          -0.4182087844747112,
          2.2446858083427386,
          -0.6883416115793721,
          -0.6958254244373987,
          -1.402295202423111,
          -0.03758719817282966,
          1.2122271431581444,
          -0.5274258314219015,
          -0.9118697255371485,
          -1.6143488151921401,
          0.5210735175482134,
          -1.1513251065755632,
          1.7219355895718205,
          1.0869843340904466,
          -1.216948879805108,
          -1.2349922427398827,
          -1.3074354401587758,
          2.735963291528345,
          0.38887536357033614,
          0.3221646534367759,
          0.05418235075620878,
          0.33137981004099915,
          -1.0815276458635394,
          -0.5862363383817281,
          0.530740237568315,
          2.827672785933177,
          -0.19184542806741828,
          1.1134366533460285,
          -0.453929476501436,
          -1.1507755795209855,
          3.0548397243317593,
          -0.04463312745831221,
          -0.7581414733888968,
          -0.7319671309610655,
          2.564061522371444,
          -0.6061121114550373,
          -0.23322956425541544,
          -0.08063644264894093,
          0.4156106115057379,
          -0.67450540428139,
          0.26416094644570987,
          0.4982230544420666,
          0.6084908112594087,
          0.1629695874690288,
          -0.27357474324744757,
          2.54968554863735,
          -0.6717332794780291,
          0.6856548746464309,
          3.2553549292770008,
          -0.6362273092949233,
          0.02780469504095068,
          -1.283263267479949,
          0.45031981969124657,
          -0.4030604621043935,
          2.480591542328528,
          -1.3752367181380094,
          0.24045868358871242,
          0.708984427702775,
          -0.9285489662111753,
          -1.1980696347256128,
          0.055114966094600676,
          2.4393620709237536,
          -0.08930600695925163,
          0.7363279964492863,
          0.5212066937145688,
          -1.8026503639395972,
          2.049990291157903,
          0.9418783986178025,
          0.28097942566964634,
          -1.0109132419207858,
          -0.45771686794327376,
          -0.8017304775699191,
          1.1349898661117641,
          -0.36761229660068506,
          0.2619235190751444,
          0.4586386327308465,
          0.8639865335741568,
          0.08310709041795257,
          0.016145432795032517,
          -0.6054438776933032,
          3.5542763222922993,
          -1.5294099234578757,
          -0.525768221626299,
          0.33526002358627305,
          -0.5884740771030003,
          -0.5170536684389168,
          -0.18992346461221185,
          3.96035272711024,
          -0.5610268158850945,
          -0.4147628278458864,
          -1.0818717548989745,
          -0.3215721335434857,
          -0.9438553577327876,
          -1.1879660171449233,
          -0.13220396136669274,
          -0.13165465052044034,
          -1.2379384420489645,
          -0.34165186250608165,
          1.0946899761392708,
          -0.05753343681822018,
          0.2768837093774813,
          -1.6421339252415736,
          -0.14289329830554343,
          0.5852200317003753,
          -1.302345927698246,
          -1.2618160538729981,
          -0.7688209326437141,
          -0.8968142606973305,
          -0.9121391411611078,
          -1.17801707986948,
          -0.12258970242786582,
          -0.7353409563586177,
          -1.1389033001025273,
          -0.7088704284208935,
          0.17763693473150047,
          0.24298633111033263,
          0.15602729648735378,
          -2.170431888273598,
          -0.870576106466238,
          0.005985978662648485,
          -0.7584128465036052,
          -0.8606941901409693,
          -0.8563312907089005,
          1.223574481709049,
          0.2514781515123326,
          -0.050736391042447225,
          -1.253270248766453,
          -1.628887769515778,
          -0.9953416601224733,
          0.5338588353219402,
          -1.5697045451910212,
          -1.8779521556854506,
          -1.6941392072389285,
          2.6148003597581333,
          1.7273582571161317,
          2.7305827556866915,
          1.914160012076058,
          1.6396340618758574,
          -0.3208156143675902,
          -0.6477481574364666,
          -0.8268062448864715,
          -0.9664479689664995,
          -1.057285985755822,
          -0.3552061313579379,
          -0.769807372104453,
          0.16686853425377335,
          -0.777622418717012,
          -0.6259068682524395,
          -0.29209795069562705,
          -0.6096056871545193,
          -0.11528621678132298,
          -1.5529295932264517,
          -1.745365743675048,
          -0.9037495408701273,
          -1.517307356319302,
          3.172690596290354,
          2.4672434276312147,
          2.50902805711852,
          1.7754513604100097,
          2.124416322206399,
          3.2809437368156047,
          1.7967096785020336,
          -0.9068896139211066,
          -1.4503749600214562,
          -0.6820585724575683,
          -0.471032102332679,
          -0.45725369940871774,
          -1.4580286338485342,
          -0.5290755551822726,
          -0.006765762282263218,
          0.09861536910382995,
          0.248782508502846,
          -1.7334139424244253,
          -1.8811685255981756,
          0.8086573413954141,
          0.7399805063286337,
          0.06417369478375144,
          -1.076521978075095,
          -1.114742237775182,
          -1.0547698905313962,
          -0.8872407950363608,
          -0.3455632589383655,
          -0.2507579553097259,
          -0.7296352644955358,
          -0.5642328631850583,
          -0.7351419770827989,
          -0.7355378754906611,
          0.25527653173375514,
          -0.18867284922826175,
          -1.1233637747411687,
          -0.657913117571528,
          -1.4701007699022357,
          -1.284057256302464,
          -1.5594207960454436,
          -0.4549821822950357,
          2.4130830108451113,
          2.071035192764948,
          2.6484021719037503,
          2.5242161807452743,
          -1.2360860990401352,
          -1.3350679400262473,
          -0.8615202678807319,
          -1.4782120147543456,
          -1.6308270634753788,
          -1.6928533120680558,
          -0.5483266538036102,
          -0.6543231524173555,
          -0.3160817758550444,
          -0.06711350844677201,
          0.28451462224110935,
          -1.3408240761404544,
          -1.9307923002260496,
          -1.3418228672293984,
          -1.4716652141512718,
          -1.0944126192274515,
          -0.2646268559727223,
          -0.3598012322517773,
          -0.6958855207814033,
          -1.1279645189462555,
          -1.6555136008537161,
          0.21974198640765166,
          -0.9164653478275095,
          -0.3003747370434717,
          -0.3325725294794134,
          0.14028425976008232,
          -0.7854765487522242,
          -0.5372597745407355,
          0.21659465277814385,
          3.5341458514666013,
          3.7368817952232,
          3.5193699418182445,
          3.4056130423538162,
          4.1647126340441645,
          0.6614407939031057,
          0.18615252671258964,
          0.8066251691687251,
          -1.1551970664566868,
          -0.09875036164381079,
          -0.01775047569978207,
          -1.7632934124817372,
          -1.260827418720293,
          -1.12895464200696,
          -0.12301036308348712,
          0.30294844438528445,
          0.22617008384921244,
          0.40890054566570566,
          0.9608581864245074,
          0.893559483285166,
          0.7096914419596264,
          0.06515028947666508,
          -0.7316576886118831,
          0.14347608326036929,
          -0.43103394763244895,
          0.09262356828419488,
          -1.4860411878853657,
          -0.8544825081734885,
          -0.6041795636394275,
          -1.0311088534874155,
          -0.8893735671360333,
          0.5590278370286584,
          0.7506638715825493,
          -1.204325485234824,
          0.6615224157877488,
          -0.4586722790290238,
          -0.6641684659992001,
          -1.623401975444182,
          3.9085104019286763,
          3.4851321566379476,
          -0.19855301984678916,
          -0.06122615601242523,
          1.5326619301689408,
          1.7318173075646854,
          0.4395244683727042,
          -1.0116333088865934,
          3.655464650572965,
          2.6348396157407965,
          -1.342201995727119,
          -2.2172427724881025,
          -0.9432957687833502,
          -0.4458967307657682,
          -0.8255304532750624,
          -1.585203812033408,
          -2.545220015943616,
          0.3500960106009065,
          0.36277453081445044,
          0.9748264736751319,
          2.650138178386588,
          3.5061303549256024,
          0.1098008703522142,
          0.5198268109253426,
          -0.4918468663926675,
          -0.5373968415228646,
          -1.1579251860985924,
          -1.1168088741353046,
          -0.5271439264842239,
          -0.8342450994291642,
          0.28169898590999876,
          -0.1167925741384229,
          -1.1432455886099868
         ]
        }
       ],
       "layout": {
        "coloraxis": {
         "colorbar": {
          "title": {
           "text": "y"
          }
         },
         "colorscale": [
          [
           0,
           "#0d0887"
          ],
          [
           0.1111111111111111,
           "#46039f"
          ],
          [
           0.2222222222222222,
           "#7201a8"
          ],
          [
           0.3333333333333333,
           "#9c179e"
          ],
          [
           0.4444444444444444,
           "#bd3786"
          ],
          [
           0.5555555555555556,
           "#d8576b"
          ],
          [
           0.6666666666666666,
           "#ed7953"
          ],
          [
           0.7777777777777778,
           "#fb9f3a"
          ],
          [
           0.8888888888888888,
           "#fdca26"
          ],
          [
           1,
           "#f0f921"
          ]
         ]
        },
        "legend": {
         "tracegroupgap": 0
        },
        "margin": {
         "t": 60
        },
        "scene": {
         "domain": {
          "x": [
           0,
           1
          ],
          "y": [
           0,
           1
          ]
         },
         "xaxis": {
          "title": {
           "text": "pc1"
          }
         },
         "yaxis": {
          "title": {
           "text": "pc2"
          }
         },
         "zaxis": {
          "title": {
           "text": "pc3"
          }
         }
        },
        "template": {
         "data": {
          "bar": [
           {
            "error_x": {
             "color": "#2a3f5f"
            },
            "error_y": {
             "color": "#2a3f5f"
            },
            "marker": {
             "line": {
              "color": "#E5ECF6",
              "width": 0.5
             }
            },
            "type": "bar"
           }
          ],
          "barpolar": [
           {
            "marker": {
             "line": {
              "color": "#E5ECF6",
              "width": 0.5
             }
            },
            "type": "barpolar"
           }
          ],
          "carpet": [
           {
            "aaxis": {
             "endlinecolor": "#2a3f5f",
             "gridcolor": "white",
             "linecolor": "white",
             "minorgridcolor": "white",
             "startlinecolor": "#2a3f5f"
            },
            "baxis": {
             "endlinecolor": "#2a3f5f",
             "gridcolor": "white",
             "linecolor": "white",
             "minorgridcolor": "white",
             "startlinecolor": "#2a3f5f"
            },
            "type": "carpet"
           }
          ],
          "choropleth": [
           {
            "colorbar": {
             "outlinewidth": 0,
             "ticks": ""
            },
            "type": "choropleth"
           }
          ],
          "contour": [
           {
            "colorbar": {
             "outlinewidth": 0,
             "ticks": ""
            },
            "colorscale": [
             [
              0,
              "#0d0887"
             ],
             [
              0.1111111111111111,
              "#46039f"
             ],
             [
              0.2222222222222222,
              "#7201a8"
             ],
             [
              0.3333333333333333,
              "#9c179e"
             ],
             [
              0.4444444444444444,
              "#bd3786"
             ],
             [
              0.5555555555555556,
              "#d8576b"
             ],
             [
              0.6666666666666666,
              "#ed7953"
             ],
             [
              0.7777777777777778,
              "#fb9f3a"
             ],
             [
              0.8888888888888888,
              "#fdca26"
             ],
             [
              1,
              "#f0f921"
             ]
            ],
            "type": "contour"
           }
          ],
          "contourcarpet": [
           {
            "colorbar": {
             "outlinewidth": 0,
             "ticks": ""
            },
            "type": "contourcarpet"
           }
          ],
          "heatmap": [
           {
            "colorbar": {
             "outlinewidth": 0,
             "ticks": ""
            },
            "colorscale": [
             [
              0,
              "#0d0887"
             ],
             [
              0.1111111111111111,
              "#46039f"
             ],
             [
              0.2222222222222222,
              "#7201a8"
             ],
             [
              0.3333333333333333,
              "#9c179e"
             ],
             [
              0.4444444444444444,
              "#bd3786"
             ],
             [
              0.5555555555555556,
              "#d8576b"
             ],
             [
              0.6666666666666666,
              "#ed7953"
             ],
             [
              0.7777777777777778,
              "#fb9f3a"
             ],
             [
              0.8888888888888888,
              "#fdca26"
             ],
             [
              1,
              "#f0f921"
             ]
            ],
            "type": "heatmap"
           }
          ],
          "heatmapgl": [
           {
            "colorbar": {
             "outlinewidth": 0,
             "ticks": ""
            },
            "colorscale": [
             [
              0,
              "#0d0887"
             ],
             [
              0.1111111111111111,
              "#46039f"
             ],
             [
              0.2222222222222222,
              "#7201a8"
             ],
             [
              0.3333333333333333,
              "#9c179e"
             ],
             [
              0.4444444444444444,
              "#bd3786"
             ],
             [
              0.5555555555555556,
              "#d8576b"
             ],
             [
              0.6666666666666666,
              "#ed7953"
             ],
             [
              0.7777777777777778,
              "#fb9f3a"
             ],
             [
              0.8888888888888888,
              "#fdca26"
             ],
             [
              1,
              "#f0f921"
             ]
            ],
            "type": "heatmapgl"
           }
          ],
          "histogram": [
           {
            "marker": {
             "colorbar": {
              "outlinewidth": 0,
              "ticks": ""
             }
            },
            "type": "histogram"
           }
          ],
          "histogram2d": [
           {
            "colorbar": {
             "outlinewidth": 0,
             "ticks": ""
            },
            "colorscale": [
             [
              0,
              "#0d0887"
             ],
             [
              0.1111111111111111,
              "#46039f"
             ],
             [
              0.2222222222222222,
              "#7201a8"
             ],
             [
              0.3333333333333333,
              "#9c179e"
             ],
             [
              0.4444444444444444,
              "#bd3786"
             ],
             [
              0.5555555555555556,
              "#d8576b"
             ],
             [
              0.6666666666666666,
              "#ed7953"
             ],
             [
              0.7777777777777778,
              "#fb9f3a"
             ],
             [
              0.8888888888888888,
              "#fdca26"
             ],
             [
              1,
              "#f0f921"
             ]
            ],
            "type": "histogram2d"
           }
          ],
          "histogram2dcontour": [
           {
            "colorbar": {
             "outlinewidth": 0,
             "ticks": ""
            },
            "colorscale": [
             [
              0,
              "#0d0887"
             ],
             [
              0.1111111111111111,
              "#46039f"
             ],
             [
              0.2222222222222222,
              "#7201a8"
             ],
             [
              0.3333333333333333,
              "#9c179e"
             ],
             [
              0.4444444444444444,
              "#bd3786"
             ],
             [
              0.5555555555555556,
              "#d8576b"
             ],
             [
              0.6666666666666666,
              "#ed7953"
             ],
             [
              0.7777777777777778,
              "#fb9f3a"
             ],
             [
              0.8888888888888888,
              "#fdca26"
             ],
             [
              1,
              "#f0f921"
             ]
            ],
            "type": "histogram2dcontour"
           }
          ],
          "mesh3d": [
           {
            "colorbar": {
             "outlinewidth": 0,
             "ticks": ""
            },
            "type": "mesh3d"
           }
          ],
          "parcoords": [
           {
            "line": {
             "colorbar": {
              "outlinewidth": 0,
              "ticks": ""
             }
            },
            "type": "parcoords"
           }
          ],
          "pie": [
           {
            "automargin": true,
            "type": "pie"
           }
          ],
          "scatter": [
           {
            "marker": {
             "colorbar": {
              "outlinewidth": 0,
              "ticks": ""
             }
            },
            "type": "scatter"
           }
          ],
          "scatter3d": [
           {
            "line": {
             "colorbar": {
              "outlinewidth": 0,
              "ticks": ""
             }
            },
            "marker": {
             "colorbar": {
              "outlinewidth": 0,
              "ticks": ""
             }
            },
            "type": "scatter3d"
           }
          ],
          "scattercarpet": [
           {
            "marker": {
             "colorbar": {
              "outlinewidth": 0,
              "ticks": ""
             }
            },
            "type": "scattercarpet"
           }
          ],
          "scattergeo": [
           {
            "marker": {
             "colorbar": {
              "outlinewidth": 0,
              "ticks": ""
             }
            },
            "type": "scattergeo"
           }
          ],
          "scattergl": [
           {
            "marker": {
             "colorbar": {
              "outlinewidth": 0,
              "ticks": ""
             }
            },
            "type": "scattergl"
           }
          ],
          "scattermapbox": [
           {
            "marker": {
             "colorbar": {
              "outlinewidth": 0,
              "ticks": ""
             }
            },
            "type": "scattermapbox"
           }
          ],
          "scatterpolar": [
           {
            "marker": {
             "colorbar": {
              "outlinewidth": 0,
              "ticks": ""
             }
            },
            "type": "scatterpolar"
           }
          ],
          "scatterpolargl": [
           {
            "marker": {
             "colorbar": {
              "outlinewidth": 0,
              "ticks": ""
             }
            },
            "type": "scatterpolargl"
           }
          ],
          "scatterternary": [
           {
            "marker": {
             "colorbar": {
              "outlinewidth": 0,
              "ticks": ""
             }
            },
            "type": "scatterternary"
           }
          ],
          "surface": [
           {
            "colorbar": {
             "outlinewidth": 0,
             "ticks": ""
            },
            "colorscale": [
             [
              0,
              "#0d0887"
             ],
             [
              0.1111111111111111,
              "#46039f"
             ],
             [
              0.2222222222222222,
              "#7201a8"
             ],
             [
              0.3333333333333333,
              "#9c179e"
             ],
             [
              0.4444444444444444,
              "#bd3786"
             ],
             [
              0.5555555555555556,
              "#d8576b"
             ],
             [
              0.6666666666666666,
              "#ed7953"
             ],
             [
              0.7777777777777778,
              "#fb9f3a"
             ],
             [
              0.8888888888888888,
              "#fdca26"
             ],
             [
              1,
              "#f0f921"
             ]
            ],
            "type": "surface"
           }
          ],
          "table": [
           {
            "cells": {
             "fill": {
              "color": "#EBF0F8"
             },
             "line": {
              "color": "white"
             }
            },
            "header": {
             "fill": {
              "color": "#C8D4E3"
             },
             "line": {
              "color": "white"
             }
            },
            "type": "table"
           }
          ]
         },
         "layout": {
          "annotationdefaults": {
           "arrowcolor": "#2a3f5f",
           "arrowhead": 0,
           "arrowwidth": 1
          },
          "coloraxis": {
           "colorbar": {
            "outlinewidth": 0,
            "ticks": ""
           }
          },
          "colorscale": {
           "diverging": [
            [
             0,
             "#8e0152"
            ],
            [
             0.1,
             "#c51b7d"
            ],
            [
             0.2,
             "#de77ae"
            ],
            [
             0.3,
             "#f1b6da"
            ],
            [
             0.4,
             "#fde0ef"
            ],
            [
             0.5,
             "#f7f7f7"
            ],
            [
             0.6,
             "#e6f5d0"
            ],
            [
             0.7,
             "#b8e186"
            ],
            [
             0.8,
             "#7fbc41"
            ],
            [
             0.9,
             "#4d9221"
            ],
            [
             1,
             "#276419"
            ]
           ],
           "sequential": [
            [
             0,
             "#0d0887"
            ],
            [
             0.1111111111111111,
             "#46039f"
            ],
            [
             0.2222222222222222,
             "#7201a8"
            ],
            [
             0.3333333333333333,
             "#9c179e"
            ],
            [
             0.4444444444444444,
             "#bd3786"
            ],
            [
             0.5555555555555556,
             "#d8576b"
            ],
            [
             0.6666666666666666,
             "#ed7953"
            ],
            [
             0.7777777777777778,
             "#fb9f3a"
            ],
            [
             0.8888888888888888,
             "#fdca26"
            ],
            [
             1,
             "#f0f921"
            ]
           ],
           "sequentialminus": [
            [
             0,
             "#0d0887"
            ],
            [
             0.1111111111111111,
             "#46039f"
            ],
            [
             0.2222222222222222,
             "#7201a8"
            ],
            [
             0.3333333333333333,
             "#9c179e"
            ],
            [
             0.4444444444444444,
             "#bd3786"
            ],
            [
             0.5555555555555556,
             "#d8576b"
            ],
            [
             0.6666666666666666,
             "#ed7953"
            ],
            [
             0.7777777777777778,
             "#fb9f3a"
            ],
            [
             0.8888888888888888,
             "#fdca26"
            ],
            [
             1,
             "#f0f921"
            ]
           ]
          },
          "colorway": [
           "#636efa",
           "#EF553B",
           "#00cc96",
           "#ab63fa",
           "#FFA15A",
           "#19d3f3",
           "#FF6692",
           "#B6E880",
           "#FF97FF",
           "#FECB52"
          ],
          "font": {
           "color": "#2a3f5f"
          },
          "geo": {
           "bgcolor": "white",
           "lakecolor": "white",
           "landcolor": "#E5ECF6",
           "showlakes": true,
           "showland": true,
           "subunitcolor": "white"
          },
          "hoverlabel": {
           "align": "left"
          },
          "hovermode": "closest",
          "mapbox": {
           "style": "light"
          },
          "paper_bgcolor": "white",
          "plot_bgcolor": "#E5ECF6",
          "polar": {
           "angularaxis": {
            "gridcolor": "white",
            "linecolor": "white",
            "ticks": ""
           },
           "bgcolor": "#E5ECF6",
           "radialaxis": {
            "gridcolor": "white",
            "linecolor": "white",
            "ticks": ""
           }
          },
          "scene": {
           "xaxis": {
            "backgroundcolor": "#E5ECF6",
            "gridcolor": "white",
            "gridwidth": 2,
            "linecolor": "white",
            "showbackground": true,
            "ticks": "",
            "zerolinecolor": "white"
           },
           "yaxis": {
            "backgroundcolor": "#E5ECF6",
            "gridcolor": "white",
            "gridwidth": 2,
            "linecolor": "white",
            "showbackground": true,
            "ticks": "",
            "zerolinecolor": "white"
           },
           "zaxis": {
            "backgroundcolor": "#E5ECF6",
            "gridcolor": "white",
            "gridwidth": 2,
            "linecolor": "white",
            "showbackground": true,
            "ticks": "",
            "zerolinecolor": "white"
           }
          },
          "shapedefaults": {
           "line": {
            "color": "#2a3f5f"
           }
          },
          "ternary": {
           "aaxis": {
            "gridcolor": "white",
            "linecolor": "white",
            "ticks": ""
           },
           "baxis": {
            "gridcolor": "white",
            "linecolor": "white",
            "ticks": ""
           },
           "bgcolor": "#E5ECF6",
           "caxis": {
            "gridcolor": "white",
            "linecolor": "white",
            "ticks": ""
           }
          },
          "title": {
           "x": 0.05
          },
          "xaxis": {
           "automargin": true,
           "gridcolor": "white",
           "linecolor": "white",
           "ticks": "",
           "title": {
            "standoff": 15
           },
           "zerolinecolor": "white",
           "zerolinewidth": 2
          },
          "yaxis": {
           "automargin": true,
           "gridcolor": "white",
           "linecolor": "white",
           "ticks": "",
           "title": {
            "standoff": 15
           },
           "zerolinecolor": "white",
           "zerolinewidth": 2
          }
         }
        }
       }
      }
     },
     "metadata": {}
    }
   ],
   "metadata": {}
  },
  {
   "cell_type": "code",
   "execution_count": null,
   "source": [],
   "outputs": [],
   "metadata": {}
  }
 ],
 "metadata": {
  "orig_nbformat": 4,
  "language_info": {
   "name": "python",
   "version": "3.7.9",
   "mimetype": "text/x-python",
   "codemirror_mode": {
    "name": "ipython",
    "version": 3
   },
   "pygments_lexer": "ipython3",
   "nbconvert_exporter": "python",
   "file_extension": ".py"
  },
  "kernelspec": {
   "name": "python3",
   "display_name": "Python 3.7.9 64-bit"
  },
  "interpreter": {
   "hash": "b07df32797ebab3fa70d4a9f70db79d16446676c9594683b5222a41098e20e60"
  }
 },
 "nbformat": 4,
 "nbformat_minor": 2
}