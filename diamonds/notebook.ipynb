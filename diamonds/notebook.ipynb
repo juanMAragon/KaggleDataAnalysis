{
 "cells": [
  {
   "cell_type": "code",
   "execution_count": 55,
   "source": [
    "import numpy as np\r\n",
    "import pandas as pd\r\n",
    "import seaborn as sns"
   ],
   "outputs": [],
   "metadata": {}
  },
  {
   "cell_type": "code",
   "execution_count": 56,
   "source": [
    "data = pd.read_csv('./diamonds.csv')"
   ],
   "outputs": [],
   "metadata": {}
  },
  {
   "cell_type": "code",
   "execution_count": 57,
   "source": [
    "print(data.shape)\r\n",
    "data.head()"
   ],
   "outputs": [
    {
     "output_type": "stream",
     "name": "stdout",
     "text": [
      "(53940, 11)\n"
     ]
    },
    {
     "output_type": "execute_result",
     "data": {
      "text/plain": [
       "   Unnamed: 0  carat      cut color clarity  depth  table  price     x     y  \\\n",
       "0           1   0.23    Ideal     E     SI2   61.5   55.0    326  3.95  3.98   \n",
       "1           2   0.21  Premium     E     SI1   59.8   61.0    326  3.89  3.84   \n",
       "2           3   0.23     Good     E     VS1   56.9   65.0    327  4.05  4.07   \n",
       "3           4   0.29  Premium     I     VS2   62.4   58.0    334  4.20  4.23   \n",
       "4           5   0.31     Good     J     SI2   63.3   58.0    335  4.34  4.35   \n",
       "\n",
       "      z  \n",
       "0  2.43  \n",
       "1  2.31  \n",
       "2  2.31  \n",
       "3  2.63  \n",
       "4  2.75  "
      ],
      "text/html": [
       "<div>\n",
       "<style scoped>\n",
       "    .dataframe tbody tr th:only-of-type {\n",
       "        vertical-align: middle;\n",
       "    }\n",
       "\n",
       "    .dataframe tbody tr th {\n",
       "        vertical-align: top;\n",
       "    }\n",
       "\n",
       "    .dataframe thead th {\n",
       "        text-align: right;\n",
       "    }\n",
       "</style>\n",
       "<table border=\"1\" class=\"dataframe\">\n",
       "  <thead>\n",
       "    <tr style=\"text-align: right;\">\n",
       "      <th></th>\n",
       "      <th>Unnamed: 0</th>\n",
       "      <th>carat</th>\n",
       "      <th>cut</th>\n",
       "      <th>color</th>\n",
       "      <th>clarity</th>\n",
       "      <th>depth</th>\n",
       "      <th>table</th>\n",
       "      <th>price</th>\n",
       "      <th>x</th>\n",
       "      <th>y</th>\n",
       "      <th>z</th>\n",
       "    </tr>\n",
       "  </thead>\n",
       "  <tbody>\n",
       "    <tr>\n",
       "      <th>0</th>\n",
       "      <td>1</td>\n",
       "      <td>0.23</td>\n",
       "      <td>Ideal</td>\n",
       "      <td>E</td>\n",
       "      <td>SI2</td>\n",
       "      <td>61.5</td>\n",
       "      <td>55.0</td>\n",
       "      <td>326</td>\n",
       "      <td>3.95</td>\n",
       "      <td>3.98</td>\n",
       "      <td>2.43</td>\n",
       "    </tr>\n",
       "    <tr>\n",
       "      <th>1</th>\n",
       "      <td>2</td>\n",
       "      <td>0.21</td>\n",
       "      <td>Premium</td>\n",
       "      <td>E</td>\n",
       "      <td>SI1</td>\n",
       "      <td>59.8</td>\n",
       "      <td>61.0</td>\n",
       "      <td>326</td>\n",
       "      <td>3.89</td>\n",
       "      <td>3.84</td>\n",
       "      <td>2.31</td>\n",
       "    </tr>\n",
       "    <tr>\n",
       "      <th>2</th>\n",
       "      <td>3</td>\n",
       "      <td>0.23</td>\n",
       "      <td>Good</td>\n",
       "      <td>E</td>\n",
       "      <td>VS1</td>\n",
       "      <td>56.9</td>\n",
       "      <td>65.0</td>\n",
       "      <td>327</td>\n",
       "      <td>4.05</td>\n",
       "      <td>4.07</td>\n",
       "      <td>2.31</td>\n",
       "    </tr>\n",
       "    <tr>\n",
       "      <th>3</th>\n",
       "      <td>4</td>\n",
       "      <td>0.29</td>\n",
       "      <td>Premium</td>\n",
       "      <td>I</td>\n",
       "      <td>VS2</td>\n",
       "      <td>62.4</td>\n",
       "      <td>58.0</td>\n",
       "      <td>334</td>\n",
       "      <td>4.20</td>\n",
       "      <td>4.23</td>\n",
       "      <td>2.63</td>\n",
       "    </tr>\n",
       "    <tr>\n",
       "      <th>4</th>\n",
       "      <td>5</td>\n",
       "      <td>0.31</td>\n",
       "      <td>Good</td>\n",
       "      <td>J</td>\n",
       "      <td>SI2</td>\n",
       "      <td>63.3</td>\n",
       "      <td>58.0</td>\n",
       "      <td>335</td>\n",
       "      <td>4.34</td>\n",
       "      <td>4.35</td>\n",
       "      <td>2.75</td>\n",
       "    </tr>\n",
       "  </tbody>\n",
       "</table>\n",
       "</div>"
      ]
     },
     "metadata": {},
     "execution_count": 57
    }
   ],
   "metadata": {}
  },
  {
   "cell_type": "code",
   "execution_count": 58,
   "source": [
    "data.drop(data.columns[0], axis=1, inplace=True)"
   ],
   "outputs": [],
   "metadata": {}
  },
  {
   "cell_type": "code",
   "execution_count": 59,
   "source": [
    "sns.histplot(data['depth'])"
   ],
   "outputs": [
    {
     "output_type": "execute_result",
     "data": {
      "text/plain": [
       "<AxesSubplot:xlabel='depth', ylabel='Count'>"
      ]
     },
     "metadata": {},
     "execution_count": 59
    },
    {
     "output_type": "display_data",
     "data": {
      "text/plain": [
       "<Figure size 432x288 with 1 Axes>"
      ],
      "image/png": "[encoded data removed]"
     },
     "metadata": {
      "needs_background": "light"
     }
    }
   ],
   "metadata": {}
  },
  {
   "cell_type": "code",
   "execution_count": 60,
   "source": [
    "data['depth'].describe()"
   ],
   "outputs": [
    {
     "output_type": "execute_result",
     "data": {
      "text/plain": [
       "count    53940.000000\n",
       "mean        61.749405\n",
       "std          1.432621\n",
       "min         43.000000\n",
       "25%         61.000000\n",
       "50%         61.800000\n",
       "75%         62.500000\n",
       "max         79.000000\n",
       "Name: depth, dtype: float64"
      ]
     },
     "metadata": {},
     "execution_count": 60
    }
   ],
   "metadata": {}
  },
  {
   "cell_type": "code",
   "execution_count": 61,
   "source": [
    "data['clarity'].value_counts()"
   ],
   "outputs": [
    {
     "output_type": "execute_result",
     "data": {
      "text/plain": [
       "SI1     13065\n",
       "VS2     12258\n",
       "SI2      9194\n",
       "VS1      8171\n",
       "VVS2     5066\n",
       "VVS1     3655\n",
       "IF       1790\n",
       "I1        741\n",
       "Name: clarity, dtype: int64"
      ]
     },
     "metadata": {},
     "execution_count": 61
    }
   ],
   "metadata": {}
  },
  {
   "cell_type": "code",
   "execution_count": 62,
   "source": [
    "data = data.sample(frac=1).reset_index(drop=True)\r\n",
    "\r\n",
    "y = data['price']\r\n",
    "X = data.drop(columns='price')"
   ],
   "outputs": [],
   "metadata": {}
  },
  {
   "cell_type": "code",
   "execution_count": 155,
   "source": [
    "from sklearn.model_selection import train_test_split\r\n",
    "\r\n",
    "X_train, X_test, y_train, y_test = train_test_split(X, y, test_size=0.33, random_state=42)\r\n",
    "\r\n",
    "X.shape, X_train.shape, X_test.shape"
   ],
   "outputs": [
    {
     "output_type": "execute_result",
     "data": {
      "text/plain": [
       "((53940, 9), (36139, 9), (17801, 9))"
      ]
     },
     "metadata": {},
     "execution_count": 155
    }
   ],
   "metadata": {}
  },
  {
   "cell_type": "code",
   "execution_count": 134,
   "source": [
    "print(len(X_train['cut'].unique()), len(X_train['color'].unique()), len(X_train['clarity'].unique()))\r\n",
    "print(len(X_test['cut'].unique()), len(X_test['color'].unique()), len(X_test['clarity'].unique()))"
   ],
   "outputs": [
    {
     "output_type": "stream",
     "name": "stdout",
     "text": [
      "5 7 8\n",
      "5 7 8\n"
     ]
    }
   ],
   "metadata": {}
  },
  {
   "cell_type": "markdown",
   "source": [
    "### OneHotEncoder vs LabelEncoder:\r\n",
    "https://contactsunny.medium.com/label-encoder-vs-one-hot-encoder-in-machine-learning-3fc273365621"
   ],
   "metadata": {}
  },
  {
   "cell_type": "code",
   "execution_count": 156,
   "source": [
    "from sklearn.preprocessing import OneHotEncoder, StandardScaler, RobustScaler, MinMaxScaler\r\n",
    "from sklearn.compose import ColumnTransformer\r\n",
    "from sklearn.pipeline import Pipeline\r\n",
    "\r\n",
    "numeric_features = ['carat','depth', 'table', 'x', 'y', 'z']\r\n",
    "numeric_transformer = Pipeline(steps=[\r\n",
    "    #('minmax', MinMaxScaler())  # <- better results on training_set but not on testing\r\n",
    "    #('standard', StandardScaler())\r\n",
    "    ('robust', RobustScaler())\r\n",
    "    ,('standard', StandardScaler())\r\n",
    "    ])\r\n",
    "\r\n",
    "categorical_features = ['cut', 'color', 'clarity']\r\n",
    "categorical_transformer = OneHotEncoder(handle_unknown='ignore')\r\n",
    "\r\n",
    "preprocessor = ColumnTransformer(\r\n",
    "    transformers=[\r\n",
    "        ('num', numeric_transformer, numeric_features),\r\n",
    "        ('cat', categorical_transformer, categorical_features)])\r\n",
    "\r\n",
    "pre = Pipeline(steps=[('preprocessor', preprocessor)])\r\n",
    "\r\n",
    "X_train = pd.DataFrame(pre.fit_transform(X_train))\r\n",
    "X_test = pd.DataFrame(pre.transform(X_test))\r\n"
   ],
   "outputs": [],
   "metadata": {}
  },
  {
   "cell_type": "code",
   "execution_count": 157,
   "source": [
    "from sklearn.linear_model import LinearRegression, Ridge, Lasso, ElasticNet\r\n",
    "#from sklearn.svm import SVR\r\n",
    "from sklearn.tree import DecisionTreeRegressor\r\n",
    "from sklearn.ensemble import RandomForestRegressor\r\n",
    "\r\n",
    "lr = LinearRegression()\r\n",
    "r = Ridge(alpha=2)\r\n",
    "l = Lasso(alpha=2)\r\n",
    "en = ElasticNet()\r\n",
    "#svr = SVR()\r\n",
    "dtr = DecisionTreeRegressor()\r\n",
    "rfr = RandomForestRegressor()"
   ],
   "outputs": [],
   "metadata": {}
  },
  {
   "cell_type": "code",
   "execution_count": 158,
   "source": [
    "lr.fit(X_train, y_train)\r\n",
    "r.fit(X_train, y_train)\r\n",
    "l.fit(X_train, y_train)\r\n",
    "en.fit(X_train, y_train)\r\n",
    "#svr.fit(X_train, y_train)\r\n",
    "dtr.fit(X_train, y_train)\r\n",
    "rfr.fit(X_train, y_train)"
   ],
   "outputs": [
    {
     "output_type": "execute_result",
     "data": {
      "text/plain": [
       "RandomForestRegressor()"
      ]
     },
     "metadata": {},
     "execution_count": 158
    }
   ],
   "metadata": {}
  },
  {
   "cell_type": "markdown",
   "source": [
    "### Using only MinMax_Scaler at preprocessing"
   ],
   "metadata": {}
  },
  {
   "cell_type": "code",
   "execution_count": 152,
   "source": [
    "from sklearn.metrics import r2_score\r\n",
    "\r\n",
    "print('lr', r2_score(lr.predict(X_test), y_test))\r\n",
    "print('r', r2_score(r.predict(X_test), y_test))\r\n",
    "print('l', r2_score(l.predict(X_test), y_test))\r\n",
    "print('en', r2_score(en.predict(X_test), y_test))\r\n",
    "#print('svr', r2_score(svr.predict(X_test), y_test))\r\n",
    "print('dtr', r2_score(dtr.predict(X_test), y_test))\r\n",
    "print('rfr', r2_score(rfr.predict(X_test), y_test))"
   ],
   "outputs": [
    {
     "output_type": "stream",
     "name": "stdout",
     "text": [
      "lr 0.9134931773759678\n",
      "r 0.9107862030955702\n",
      "l 0.9090536782883251\n",
      "en -100.4333650792478\n",
      "dtr 0.9621642340984302\n",
      "rfr 0.9797994247293096\n"
     ]
    }
   ],
   "metadata": {}
  },
  {
   "cell_type": "markdown",
   "source": [
    "### using only Standard_Scaler at preprocessing"
   ],
   "metadata": {}
  },
  {
   "cell_type": "code",
   "execution_count": 144,
   "source": [
    "from sklearn.metrics import r2_score\r\n",
    "\r\n",
    "print('lr', r2_score(lr.predict(X_test), y_test))\r\n",
    "print('r', r2_score(r.predict(X_test), y_test))\r\n",
    "print('l', r2_score(l.predict(X_test), y_test))\r\n",
    "print('en', r2_score(en.predict(X_test), y_test))\r\n",
    "#print('svr', r2_score(svr.predict(X_test), y_test))\r\n",
    "print('dtr', r2_score(dtr.predict(X_test), y_test))\r\n",
    "print('rfr', r2_score(rfr.predict(X_test), y_test))"
   ],
   "outputs": [
    {
     "output_type": "stream",
     "name": "stdout",
     "text": [
      "lr 0.9134709921440626\n",
      "r 0.9134370362762251\n",
      "l 0.9130230165900362\n",
      "en 0.6992846526593395\n",
      "dtr 0.9622296637160365\n",
      "rfr 0.9795099022765172\n"
     ]
    }
   ],
   "metadata": {}
  },
  {
   "cell_type": "markdown",
   "source": [
    "### Using only Robust_Scaler at preprocessing"
   ],
   "metadata": {}
  },
  {
   "cell_type": "code",
   "execution_count": 138,
   "source": [
    "from sklearn.metrics import r2_score\r\n",
    "\r\n",
    "print('lr', r2_score(lr.predict(X_test), y_test))\r\n",
    "print('r', r2_score(r.predict(X_test), y_test))\r\n",
    "print('l', r2_score(l.predict(X_test), y_test))\r\n",
    "print('en', r2_score(en.predict(X_test), y_test))\r\n",
    "#print('svr', r2_score(svr.predict(X_test), y_test))\r\n",
    "print('dtr', r2_score(dtr.predict(X_test), y_test))\r\n",
    "print('rfr', r2_score(rfr.predict(X_test), y_test))"
   ],
   "outputs": [
    {
     "output_type": "stream",
     "name": "stdout",
     "text": [
      "lr 0.9134730813473048\n",
      "r 0.9134037320727547\n",
      "l 0.9128994533712734\n",
      "en 0.5274983648668314\n",
      "dtr 0.9618006105843147\n",
      "rfr 0.9796627124218238\n"
     ]
    }
   ],
   "metadata": {}
  },
  {
   "cell_type": "markdown",
   "source": [
    "### Using Robust_Scaler + Standard_Scaler at preprocessing"
   ],
   "metadata": {}
  },
  {
   "cell_type": "code",
   "execution_count": 159,
   "source": [
    "from sklearn.metrics import r2_score\r\n",
    "\r\n",
    "print('lr', r2_score(lr.predict(X_test), y_test))\r\n",
    "print('r', r2_score(r.predict(X_test), y_test))\r\n",
    "print('l', r2_score(l.predict(X_test), y_test))\r\n",
    "print('en', r2_score(en.predict(X_test), y_test))\r\n",
    "#print('svr', r2_score(svr.predict(X_test), y_test))\r\n",
    "print('dtr', r2_score(dtr.predict(X_test), y_test))\r\n",
    "print('rfr', r2_score(rfr.predict(X_test), y_test))"
   ],
   "outputs": [
    {
     "output_type": "stream",
     "name": "stdout",
     "text": [
      "lr 0.9134749762780239\n",
      "r 0.9134370362762249\n",
      "l 0.9130230165900363\n",
      "en 0.6992846526593396\n",
      "dtr 0.9622801824779383\n",
      "rfr 0.9797400253055072\n"
     ]
    }
   ],
   "metadata": {}
  },
  {
   "cell_type": "code",
   "execution_count": 91,
   "source": [
    "from sklearn.model_selection import GridSearchCV\r\n",
    "\r\n",
    "search_space = {\r\n",
    "      \"n_estimators\": [50,100,150],\r\n",
    "      \"criterion\":['mse', 'mae'],\r\n",
    "      \"max_features\":['auto', 'log2'],\r\n",
    "      \"bootstrap\":[True, False]\r\n",
    "      }"
   ],
   "outputs": [],
   "metadata": {}
  },
  {
   "cell_type": "code",
   "execution_count": 92,
   "source": [
    "grid = GridSearchCV(estimator=RandomForestRegressor(), \r\n",
    "                    param_grid=search_space,\r\n",
    "                    cv=3,\r\n",
    "                    scoring='r2',\r\n",
    "                    return_train_score=True,\r\n",
    "                    n_jobs=-1,  # AUC == ROC\r\n",
    "                    #verbose=10\r\n",
    "                    ) "
   ],
   "outputs": [],
   "metadata": {}
  },
  {
   "cell_type": "code",
   "execution_count": 93,
   "source": [
    "best_model = grid.fit(X_train,y_train)"
   ],
   "outputs": [],
   "metadata": {}
  },
  {
   "cell_type": "code",
   "execution_count": 94,
   "source": [
    "print(best_model.best_params_)"
   ],
   "outputs": [
    {
     "output_type": "stream",
     "name": "stdout",
     "text": [
      "{'bootstrap': True, 'criterion': 'mse', 'max_features': 'auto', 'n_estimators': 150}\n"
     ]
    }
   ],
   "metadata": {}
  },
  {
   "cell_type": "markdown",
   "source": [
    "### Using only MinMax_Scaler at preprocessing"
   ],
   "metadata": {}
  },
  {
   "cell_type": "code",
   "execution_count": 153,
   "source": [
    "rfr_best = RandomForestRegressor(n_estimators=150)\r\n",
    "\r\n",
    "rfr_best.fit(X_train, y_train)\r\n",
    "\r\n",
    "print('rfr_best', r2_score(rfr_best.predict(X_test), y_test))"
   ],
   "outputs": [
    {
     "output_type": "stream",
     "name": "stdout",
     "text": [
      "rfr_best 0.9796684509695696\n"
     ]
    }
   ],
   "metadata": {}
  },
  {
   "cell_type": "markdown",
   "source": [
    "### Using Robust_Scaler + Standard_Scaler at preprocessing"
   ],
   "metadata": {}
  },
  {
   "cell_type": "code",
   "execution_count": 160,
   "source": [
    "rfr_best = RandomForestRegressor(n_estimators=150)\r\n",
    "\r\n",
    "rfr_best.fit(X_train, y_train)\r\n",
    "\r\n",
    "print('rfr_best', r2_score(rfr_best.predict(X_test), y_test))"
   ],
   "outputs": [
    {
     "output_type": "stream",
     "name": "stdout",
     "text": [
      "rfr_best 0.9797399904893992\n"
     ]
    }
   ],
   "metadata": {}
  },
  {
   "cell_type": "code",
   "execution_count": 125,
   "source": [
    "import matplotlib.pyplot as plt\r\n",
    "\r\n",
    "y_predicted = rfr_best.predict(X_test)\r\n",
    "y_official = y_test.values"
   ],
   "outputs": [],
   "metadata": {}
  },
  {
   "cell_type": "code",
   "execution_count": 131,
   "source": [
    "x = range(len(y_predicted))\r\n",
    "\r\n",
    "plt.plot(x, np.sort(y_predicted))\r\n",
    "plt.plot(x, np.sort(y_official))"
   ],
   "outputs": [
    {
     "output_type": "execute_result",
     "data": {
      "text/plain": [
       "[<matplotlib.lines.Line2D at 0x1a738ddf808>]"
      ]
     },
     "metadata": {},
     "execution_count": 131
    },
    {
     "output_type": "display_data",
     "data": {
      "text/plain": [
       "<Figure size 432x288 with 1 Axes>"
      ],
      "image/png": "[encoded data removed]"
     },
     "metadata": {
      "needs_background": "light"
     }
    }
   ],
   "metadata": {}
  }
 ],
 "metadata": {
  "orig_nbformat": 4,
  "language_info": {
   "name": "python",
   "version": "3.7.9",
   "mimetype": "text/x-python",
   "codemirror_mode": {
    "name": "ipython",
    "version": 3
   },
   "pygments_lexer": "ipython3",
   "nbconvert_exporter": "python",
   "file_extension": ".py"
  },
  "kernelspec": {
   "name": "python3",
   "display_name": "Python 3.7.9 64-bit"
  },
  "interpreter": {
   "hash": "b07df32797ebab3fa70d4a9f70db79d16446676c9594683b5222a41098e20e60"
  }
 },
 "nbformat": 4,
 "nbformat_minor": 2
}